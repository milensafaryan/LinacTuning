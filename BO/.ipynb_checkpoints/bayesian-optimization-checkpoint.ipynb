{
 "cells": [
  {
   "cell_type": "code",
   "execution_count": 1,
   "metadata": {},
   "outputs": [],
   "source": [
    "%matplotlib inline"
   ]
  },
  {
   "cell_type": "markdown",
   "metadata": {},
   "source": [
    "\n",
    "# Bayesian optimization with `skopt`\n",
    "\n",
    "Gilles Louppe, Manoj Kumar July 2016.\n",
    "Reformatted by Holger Nahrstaedt 2020\n",
    "\n",
    ".. currentmodule:: skopt\n",
    "\n",
    "## Problem statement\n",
    "\n",
    "We are interested in solving\n",
    "\n",
    "\\begin{align}x^* = arg \\min_x f(x)\\end{align}\n",
    "\n",
    "under the constraints that\n",
    "\n",
    "- $f$ is a black box for which no closed form is known\n",
    "  (nor its gradients);\n",
    "- $f$ is expensive to evaluate;\n",
    "- and evaluations of $y = f(x)$ may be noisy.\n",
    "\n",
    "**Disclaimer.** If you do not have these constraints, then there\n",
    "is certainly a better optimization algorithm than Bayesian optimization.\n",
    "\n",
    "This example uses :class:`plots.plot_gaussian_process` which is available\n",
    "since version 0.8.\n",
    "\n",
    "## Bayesian optimization loop\n",
    "\n",
    "For $t=1:T$:\n",
    "\n",
    "1. Given observations $(x_i, y_i=f(x_i))$ for $i=1:t$, build a\n",
    "   probabilistic model for the objective $f$. Integrate out all\n",
    "   possible true functions, using Gaussian process regression.\n",
    "\n",
    "2. optimize a cheap acquisition/utility function $u$ based on the\n",
    "   posterior distribution for sampling the next point.\n",
    "   $x_{t+1} = arg \\min_x u(x)$\n",
    "   Exploit uncertainty to balance exploration against exploitation.\n",
    "\n",
    "3. Sample the next observation $y_{t+1}$ at $x_{t+1}$.\n",
    "\n",
    "\n",
    "## Acquisition functions\n",
    "\n",
    "Acquisition functions $u(x)$ specify which sample $x$: should be\n",
    "tried next:\n",
    "\n",
    "- Expected improvement (default):\n",
    "  $-EI(x) = -\\mathbb{E} [f(x) - f(x_t^+)]$\n",
    "- Lower confidence bound: $LCB(x) = \\mu_{GP}(x) + \\kappa \\sigma_{GP}(x)$\n",
    "- Probability of improvement: $-PI(x) = -P(f(x) \\geq f(x_t^+) + \\kappa)$\n",
    "\n",
    "where $x_t^+$ is the best point observed so far.\n",
    "\n",
    "In most cases, acquisition functions provide knobs (e.g., $\\kappa$) for\n",
    "controlling the exploration-exploitation trade-off.\n",
    "- Search in regions where $\\mu_{GP}(x)$ is high (exploitation)\n",
    "- Probe regions where uncertainty $\\sigma_{GP}(x)$ is high (exploration)\n"
   ]
  },
  {
   "cell_type": "code",
   "execution_count": 2,
   "metadata": {},
   "outputs": [
    {
     "name": "stdout",
     "output_type": "stream",
     "text": [
      "Automatically created module for IPython interactive environment\n"
     ]
    },
    {
     "ename": "ModuleNotFoundError",
     "evalue": "No module named 'skopt'",
     "output_type": "error",
     "traceback": [
      "\u001b[0;31m---------------------------------------------------------------------------\u001b[0m",
      "\u001b[0;31mModuleNotFoundError\u001b[0m                       Traceback (most recent call last)",
      "\u001b[0;32m/var/folders/fl/7z0_lz612sz9d31z6p9fj81h0000gr/T/ipykernel_93932/4241336184.py\u001b[0m in \u001b[0;36m<module>\u001b[0;34m\u001b[0m\n\u001b[1;32m      4\u001b[0m \u001b[0mnp\u001b[0m\u001b[0;34m.\u001b[0m\u001b[0mrandom\u001b[0m\u001b[0;34m.\u001b[0m\u001b[0mseed\u001b[0m\u001b[0;34m(\u001b[0m\u001b[0;36m237\u001b[0m\u001b[0;34m)\u001b[0m\u001b[0;34m\u001b[0m\u001b[0;34m\u001b[0m\u001b[0m\n\u001b[1;32m      5\u001b[0m \u001b[0;32mimport\u001b[0m \u001b[0mmatplotlib\u001b[0m\u001b[0;34m.\u001b[0m\u001b[0mpyplot\u001b[0m \u001b[0;32mas\u001b[0m \u001b[0mplt\u001b[0m\u001b[0;34m\u001b[0m\u001b[0;34m\u001b[0m\u001b[0m\n\u001b[0;32m----> 6\u001b[0;31m \u001b[0;32mfrom\u001b[0m \u001b[0mskopt\u001b[0m\u001b[0;34m.\u001b[0m\u001b[0mplots\u001b[0m \u001b[0;32mimport\u001b[0m \u001b[0mplot_gaussian_process\u001b[0m\u001b[0;34m\u001b[0m\u001b[0;34m\u001b[0m\u001b[0m\n\u001b[0m",
      "\u001b[0;31mModuleNotFoundError\u001b[0m: No module named 'skopt'"
     ]
    }
   ],
   "source": [
    "print(__doc__)\n",
    "\n",
    "import numpy as np\n",
    "np.random.seed(237)\n",
    "import matplotlib.pyplot as plt\n",
    "from skopt.plots import plot_gaussian_process"
   ]
  },
  {
   "cell_type": "markdown",
   "metadata": {},
   "source": [
    "## Toy example\n",
    "\n",
    "Let assume the following noisy function $f$:\n",
    "\n"
   ]
  },
  {
   "cell_type": "code",
   "execution_count": null,
   "metadata": {},
   "outputs": [],
   "source": [
    "noise_level = 0.1\n",
    "\n",
    "def f(x, noise_level=noise_level):\n",
    "    return np.sin(5 * x[0]) * (1 - np.tanh(x[0] ** 2))\\\n",
    "           + np.random.randn() * noise_level"
   ]
  },
  {
   "cell_type": "markdown",
   "metadata": {},
   "source": [
    "**Note.** In `skopt`, functions $f$ are assumed to take as input a 1D\n",
    "vector $x$: represented as an array-like and to return a scalar\n",
    "$f(x)$:.\n",
    "\n"
   ]
  },
  {
   "cell_type": "code",
   "execution_count": null,
   "metadata": {},
   "outputs": [],
   "source": [
    "# Plot f(x) + contours\n",
    "x = np.linspace(-2, 2, 400).reshape(-1, 1)\n",
    "fx = [f(x_i, noise_level=0.0) for x_i in x]\n",
    "plt.plot(x, fx, \"r--\", label=\"True (unknown)\")\n",
    "plt.fill(np.concatenate([x, x[::-1]]),\n",
    "         np.concatenate(([fx_i - 1.9600 * noise_level for fx_i in fx],\n",
    "                         [fx_i + 1.9600 * noise_level for fx_i in fx[::-1]])),\n",
    "         alpha=.2, fc=\"r\", ec=\"None\")\n",
    "plt.legend()\n",
    "plt.grid()\n",
    "plt.show()"
   ]
  },
  {
   "cell_type": "markdown",
   "metadata": {},
   "source": [
    "Bayesian optimization based on gaussian process regression is implemented in\n",
    ":class:`gp_minimize` and can be carried out as follows:\n",
    "\n"
   ]
  },
  {
   "cell_type": "code",
   "execution_count": null,
   "metadata": {},
   "outputs": [],
   "source": [
    "from skopt import gp_minimize\n",
    "\n",
    "res = gp_minimize(f,                  # the function to minimize\n",
    "                  [(-2.0, 2.0)],      # the bounds on each dimension of x\n",
    "                  acq_func=\"EI\",      # the acquisition function\n",
    "                  n_calls=15,         # the number of evaluations of f\n",
    "                  n_random_starts=5,  # the number of random initialization points\n",
    "                  noise=0.1**2,       # the noise level (optional)\n",
    "                  random_state=1234)   # the random seed"
   ]
  },
  {
   "cell_type": "markdown",
   "metadata": {},
   "source": [
    "Accordingly, the approximated minimum is found to be:\n",
    "\n"
   ]
  },
  {
   "cell_type": "code",
   "execution_count": null,
   "metadata": {},
   "outputs": [],
   "source": [
    "\"x^*=%.4f, f(x^*)=%.4f\" % (res.x[0], res.fun)"
   ]
  },
  {
   "cell_type": "markdown",
   "metadata": {},
   "source": [
    "For further inspection of the results, attributes of the `res` named tuple\n",
    "provide the following information:\n",
    "\n",
    "- `x` [float]: location of the minimum.\n",
    "- `fun` [float]: function value at the minimum.\n",
    "- `models`: surrogate models used for each iteration.\n",
    "- `x_iters` [array]:\n",
    "  location of function evaluation for each iteration.\n",
    "- `func_vals` [array]: function value for each iteration.\n",
    "- `space` [Space]: the optimization space.\n",
    "- `specs` [dict]: parameters passed to the function.\n",
    "\n"
   ]
  },
  {
   "cell_type": "code",
   "execution_count": null,
   "metadata": {},
   "outputs": [],
   "source": [
    "print(res)"
   ]
  },
  {
   "cell_type": "markdown",
   "metadata": {},
   "source": [
    "Together these attributes can be used to visually inspect the results of the\n",
    "minimization, such as the convergence trace or the acquisition function at\n",
    "the last iteration:\n",
    "\n"
   ]
  },
  {
   "cell_type": "code",
   "execution_count": null,
   "metadata": {},
   "outputs": [],
   "source": [
    "from skopt.plots import plot_convergence\n",
    "plot_convergence(res);"
   ]
  },
  {
   "cell_type": "markdown",
   "metadata": {},
   "source": [
    "Let us now visually examine\n",
    "\n",
    "1. The approximation of the fit gp model to the original function.\n",
    "2. The acquisition values that determine the next point to be queried.\n",
    "\n"
   ]
  },
  {
   "cell_type": "code",
   "execution_count": null,
   "metadata": {},
   "outputs": [],
   "source": [
    "plt.rcParams[\"figure.figsize\"] = (8, 14)\n",
    "\n",
    "\n",
    "def f_wo_noise(x):\n",
    "    return f(x, noise_level=0)"
   ]
  },
  {
   "cell_type": "markdown",
   "metadata": {},
   "source": [
    "Plot the 5 iterations following the 5 random points\n",
    "\n"
   ]
  },
  {
   "cell_type": "code",
   "execution_count": null,
   "metadata": {},
   "outputs": [],
   "source": [
    "for n_iter in range(5):\n",
    "    # Plot true function.\n",
    "    plt.subplot(5, 2, 2*n_iter+1)\n",
    "\n",
    "    if n_iter == 0:\n",
    "        show_legend = True\n",
    "    else:\n",
    "        show_legend = False\n",
    "\n",
    "    ax = plot_gaussian_process(res, n_calls=n_iter,\n",
    "                               objective=f_wo_noise,\n",
    "                               noise_level=noise_level,\n",
    "                               show_legend=show_legend, show_title=False,\n",
    "                               show_next_point=False, show_acq_func=False)\n",
    "    ax.set_ylabel(\"\")\n",
    "    ax.set_xlabel(\"\")\n",
    "    # Plot EI(x)\n",
    "    plt.subplot(5, 2, 2*n_iter+2)\n",
    "    ax = plot_gaussian_process(res, n_calls=n_iter,\n",
    "                               show_legend=show_legend, show_title=False,\n",
    "                               show_mu=False, show_acq_func=True,\n",
    "                               show_observations=False,\n",
    "                               show_next_point=True)\n",
    "    ax.set_ylabel(\"\")\n",
    "    ax.set_xlabel(\"\")\n",
    "\n",
    "plt.show()"
   ]
  },
  {
   "cell_type": "markdown",
   "metadata": {},
   "source": [
    "The first column shows the following:\n",
    "\n",
    "1. The true function.\n",
    "2. The approximation to the original function by the gaussian process model\n",
    "3. How sure the GP is about the function.\n",
    "\n",
    "The second column shows the acquisition function values after every\n",
    "surrogate model is fit. It is possible that we do not choose the global\n",
    "minimum but a local minimum depending on the minimizer used to minimize\n",
    "the acquisition function.\n",
    "\n",
    "At the points closer to the points previously evaluated at, the variance\n",
    "dips to zero.\n",
    "\n",
    "Finally, as we increase the number of points, the GP model approaches\n",
    "the actual function. The final few points are clustered around the minimum\n",
    "because the GP does not gain anything more by further exploration:\n",
    "\n"
   ]
  },
  {
   "cell_type": "code",
   "execution_count": null,
   "metadata": {},
   "outputs": [],
   "source": [
    "plt.rcParams[\"figure.figsize\"] = (6, 4)\n",
    "\n",
    "# Plot f(x) + contours\n",
    "_ = plot_gaussian_process(res, objective=f_wo_noise,\n",
    "                          noise_level=noise_level)\n",
    "\n",
    "plt.show()"
   ]
  }
 ],
 "metadata": {
  "kernelspec": {
   "display_name": "Python 3 (ipykernel)",
   "language": "python",
   "name": "python3"
  },
  "language_info": {
   "codemirror_mode": {
    "name": "ipython",
    "version": 3
   },
   "file_extension": ".py",
   "mimetype": "text/x-python",
   "name": "python",
   "nbconvert_exporter": "python",
   "pygments_lexer": "ipython3",
   "version": "3.8.10"
  }
 },
 "nbformat": 4,
 "nbformat_minor": 1
}
