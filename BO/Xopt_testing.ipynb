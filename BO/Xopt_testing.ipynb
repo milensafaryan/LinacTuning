{
 "cells": [
  {
   "cell_type": "code",
   "execution_count": 1,
   "id": "07d7be9e",
   "metadata": {},
   "outputs": [],
   "source": [
    "from copy import deepcopy\n",
    "from typing import Dict\n",
    "import pandas as pd\n",
    "import numpy as np\n",
    "import matplotlib.pyplot as plt\n",
    "import math\n",
    "import torch\n",
    "\n",
    "from xopt import Xopt, Evaluator, Generator, VOCS\n",
    "from xopt.generators import generators, generator_default_options\n",
    "from xopt.generators.bayesian import MOBOGenerator\n",
    "from xopt.resources.test_functions.tnk import evaluate_TNK, tnk_vocs\n"
   ]
  },
  {
   "cell_type": "code",
   "execution_count": null,
   "id": "2520507b",
   "metadata": {},
   "outputs": [],
   "source": [
    "options = MOBOGenerator.default_options()\n",
    "options.n_initial = (2,)\n",
    "options.optim.num_restarts = 1\n",
    "options.optim.raw_samples = 50\n",
    "options.acq.proximal_lengthscales = [1.0, 1.0]\n",
    "options.model.use_low_noise_prior = True\n",
    "\n",
    "generator = MOBOGenerator(tnk_vocs, options)\n",
    "\n",
    "evaluator = Evaluator(function=evaluate_TNK)\n",
    "\n",
    "X = Xopt(generator=generator, evaluator=evaluator, vocs=tnk_vocs)\n",
    "X.submit_data(pd.DataFrame({\"x1\":[1.0, 0.75],\"x2\":[0.75, 1.0]}))"
   ]
  },
  {
   "cell_type": "code",
   "execution_count": null,
   "id": "aa7a4a45",
   "metadata": {},
   "outputs": [],
   "source": [
    "for i in range(100):\n",
    "    X.step()"
   ]
  },
  {
   "cell_type": "code",
   "execution_count": null,
   "id": "70773c68",
   "metadata": {},
   "outputs": [],
   "source": [
    "fig, ax = plt.subplots()\n",
    "\n",
    "theta = np.linspace(0, np.pi / 2)\n",
    "r = np.sqrt(1 + 0.1 * np.cos(16 * theta))\n",
    "x_1 = r * np.sin(theta)\n",
    "x_2_lower = r * np.cos(theta)\n",
    "x_2_upper = (0.5 - (x_1 - 0.5) ** 2) ** 0.5 + 0.5\n",
    "\n",
    "z = np.zeros_like(x_1)\n",
    "\n",
    "# ax2.plot(x_1, x_2_lower,'r')\n",
    "ax.fill_between(x_1, z, x_2_lower, fc=\"white\")\n",
    "circle = plt.Circle(\n",
    "    (0.5, 0.5), 0.5 ** 0.5, color=\"r\", alpha=0.25, zorder=0, label=\"Valid Region\"\n",
    ")\n",
    "ax.add_patch(circle)\n",
    "history = pd.concat(\n",
    "    [X.data, tnk_vocs.feasibility_data(X.data)], axis=1, ignore_index=False\n",
    ")\n",
    "\n",
    "\n",
    "ax.plot(*history[[\"x1\", \"x2\"]][history[\"feasible\"]].to_numpy().T, \".C1\")\n",
    "ax.plot(*history[[\"x1\", \"x2\"]][~history[\"feasible\"]].to_numpy().T, \".C2\")\n",
    "\n",
    "ax.set_xlim(0, 3.14)\n",
    "ax.set_ylim(0, 3.14)\n",
    "ax.set_xlabel(\"x1\")\n",
    "ax.set_ylabel(\"x2\")\n",
    "ax.set_aspect(\"equal\")"
   ]
  },
  {
   "cell_type": "code",
   "execution_count": null,
   "id": "c46e29fd",
   "metadata": {},
   "outputs": [],
   "source": [
    "ax = history.plot(\"x1\", \"x2\")\n",
    "ax.set_ylim(0, 3.14)\n",
    "ax.set_xlim(0, 3.14)\n",
    "ax.set_aspect(\"equal\")"
   ]
  },
  {
   "cell_type": "code",
   "execution_count": null,
   "id": "43b3309a",
   "metadata": {},
   "outputs": [],
   "source": [
    "from xopt.generators.bayesian.utils import feasibility\n",
    "\n",
    "bounds = generator.vocs.bounds\n",
    "model = generator.model\n",
    "\n",
    "# create mesh\n",
    "n = 200\n",
    "x = torch.linspace(*bounds.T[0], n)\n",
    "y = torch.linspace(*bounds.T[1], n)\n",
    "xx, yy = torch.meshgrid(x, y)\n",
    "pts = torch.hstack([ele.reshape(-1, 1) for ele in (xx, yy)]).double()\n",
    "\n",
    "acq_func = generator.get_acquisition(model)\n",
    "with torch.no_grad():\n",
    "    acq_pts = pts.unsqueeze(1)\n",
    "    acq = acq_func(acq_pts)\n",
    "\n",
    "    fig, ax = plt.subplots()\n",
    "    c = ax.pcolor(xx, yy, acq.reshape(n, n), cmap=\"Blues\")\n",
    "    fig.colorbar(c)\n",
    "    ax.set_title(\"Acquisition function\")\n",
    "\n",
    "    ax.plot(*history[[\"x1\", \"x2\"]][history[\"feasible\"]].to_numpy().T, \".C1\")\n",
    "    ax.plot(*history[[\"x1\", \"x2\"]][~history[\"feasible\"]].to_numpy().T, \".C2\")\n",
    "\n",
    "    ax.plot(*history[[\"x1\", \"x2\"]].to_numpy()[-1].T, \"+\")\n",
    "\n",
    "    feas = feasibility(pts.unsqueeze(1), model, generator.sampler, tnk_vocs).flatten()\n",
    "\n",
    "    fig2, ax2 = plt.subplots()\n",
    "    c = ax2.pcolor(xx, yy, feas.reshape(n, n))\n",
    "    fig2.colorbar(c)\n",
    "    ax2.set_title(\"Feasible Region\")\n",
    "\n",
    "candidate = generator.generate(1)\n",
    "print(candidate[[\"x1\", \"x2\"]].to_numpy())\n",
    "ax.plot(*candidate[[\"x1\", \"x2\"]].to_numpy()[0], \"o\")"
   ]
  },
  {
   "cell_type": "markdown",
   "id": "887b5eea",
   "metadata": {},
   "source": [
    "# One-dimensional optimization"
   ]
  },
  {
   "cell_type": "code",
   "execution_count": 2,
   "id": "0a630245",
   "metadata": {},
   "outputs": [],
   "source": [
    "def f(inputs: Dict) -> Dict:\n",
    "    return {\"y\": inputs[\"x\"] ** 2}\n"
   ]
  },
  {
   "cell_type": "code",
   "execution_count": 3,
   "id": "d0cb36b4",
   "metadata": {},
   "outputs": [
    {
     "data": {
      "text/plain": [
       "VOCS(variables={'x': [-2.0, 2.0]}, constraints={}, objectives={'y': 'MINIMIZE'}, constants={}, linked_variables={})"
      ]
     },
     "execution_count": 3,
     "metadata": {},
     "output_type": "execute_result"
    }
   ],
   "source": [
    "vocs = VOCS(variables={\"x\": [-2, 2]}, objectives={\"y\": \"MINIMIZE\"})\n",
    "vocs"
   ]
  },
  {
   "cell_type": "code",
   "execution_count": 4,
   "id": "e19bf22b",
   "metadata": {},
   "outputs": [],
   "source": [
    "options = generator_default_options[\"upper_confidence_bound\"]\n",
    "# modify the UCB beta parameter and the number of initial samples\n",
    "options.n_initial = 3\n",
    "options.acq.beta = 1.0"
   ]
  },
  {
   "cell_type": "code",
   "execution_count": 5,
   "id": "5e0bac92",
   "metadata": {},
   "outputs": [
    {
     "data": {
      "text/plain": [
       "UCBOptions(optim=OptimOptions(num_restarts=5, raw_samples=20, sequential=True, use_nearby_initial_points=True), acq=UpperConfidenceBoundOptions(proximal_lengthscales=None, monte_carlo_samples=128, beta=1.0), model=ModelOptions(use_conservative_prior_lengthscale=False, use_conservative_prior_mean=False, use_low_noise_prior=False), n_initial=3)"
      ]
     },
     "execution_count": 5,
     "metadata": {},
     "output_type": "execute_result"
    }
   ],
   "source": [
    "generator = generators[\"upper_confidence_bound\"](vocs=vocs, options=options)\n",
    "generator.options"
   ]
  },
  {
   "cell_type": "code",
   "execution_count": 6,
   "id": "b9874388",
   "metadata": {},
   "outputs": [
    {
     "name": "stderr",
     "output_type": "stream",
     "text": [
      "/var/folders/fl/7z0_lz612sz9d31z6p9fj81h0000gr/T/ipykernel_22994/1047454529.py:1: DeprecationWarning: `copy_on_model_validation` should be a string: 'deep', 'shallow' or 'none'\n",
      "  evaluator = Evaluator(function=f)\n"
     ]
    }
   ],
   "source": [
    "evaluator = Evaluator(function=f)"
   ]
  },
  {
   "cell_type": "code",
   "execution_count": 7,
   "id": "c65e26db",
   "metadata": {},
   "outputs": [
    {
     "data": {
      "text/plain": [
       "XoptOptions(asynch=False, strict=False, dump_file=None, max_evaluations=None)"
      ]
     },
     "execution_count": 7,
     "metadata": {},
     "output_type": "execute_result"
    }
   ],
   "source": [
    "X = Xopt(generator=generator, evaluator=evaluator, vocs=vocs)\n",
    "X.options"
   ]
  },
  {
   "cell_type": "code",
   "execution_count": 8,
   "id": "e66d6e0b",
   "metadata": {},
   "outputs": [],
   "source": [
    "X.submit_data(pd.DataFrame({\"x\":[-1.5, 0.75,2.0]}))\n",
    "for i in range(20):   \n",
    "    X.step()"
   ]
  },
  {
   "cell_type": "code",
   "execution_count": 9,
   "id": "fe6f7b7e",
   "metadata": {},
   "outputs": [
    {
     "data": {
      "text/plain": [
       "Text(0, 0.5, 'y')"
      ]
     },
     "execution_count": 9,
     "metadata": {},
     "output_type": "execute_result"
    },
    {
     "data": {
      "image/png": "[encoded data removed]",
      "text/plain": [
       "<Figure size 640x480 with 1 Axes>"
      ]
     },
     "metadata": {},
     "output_type": "display_data"
    }
   ],
   "source": [
    "model = X.generator.model\n",
    "bounds = X.vocs.bounds\n",
    "\n",
    "test_x = torch.linspace(*bounds.flatten(), 100).double()\n",
    "\n",
    "train_x = torch.tensor(X.data[\"x\"].to_numpy())\n",
    "train_y = torch.tensor(X.data[\"y\"].to_numpy())\n",
    "\n",
    "fig, ax = plt.subplots()\n",
    "with torch.no_grad():\n",
    "    post = model.models[0].posterior(test_x.reshape(-1,1,1))\n",
    "    mean = post.mean.flatten()\n",
    "    std = post.variance.sqrt().flatten()\n",
    "\n",
    "    lower = mean - std\n",
    "    upper = mean + std\n",
    "\n",
    "ax.plot(test_x, mean)\n",
    "ax.fill_between(test_x, lower, upper, alpha=0.5)\n",
    "ax.plot(\n",
    "    train_x.flatten(),\n",
    "    train_y.flatten(),\n",
    "    \"+\"\n",
    ")\n",
    "ax.set_xlabel(\"x\")\n",
    "ax.set_ylabel(\"y\")"
   ]
  },
  {
   "cell_type": "code",
   "execution_count": 10,
   "id": "2b3ffcd9",
   "metadata": {},
   "outputs": [
    {
     "name": "stdout",
     "output_type": "stream",
     "text": [
      "          x\n",
      "0 -0.006791\n"
     ]
    }
   ],
   "source": [
    "print(generator.generate(1))"
   ]
  },
  {
   "cell_type": "code",
   "execution_count": 11,
   "id": "4abdc065",
   "metadata": {},
   "outputs": [],
   "source": [
    "from phasescan import phasescan\n",
    "import argparse\n",
    "import os\n",
    "import acsys\n",
    "from acsys import dpm as dpms"
   ]
  },
  {
   "cell_type": "code",
   "execution_count": null,
   "id": "7cd83b59",
   "metadata": {},
   "outputs": [],
   "source": [
    "def run(readfile,ramplist,Nmeas,event,outfile):\n",
    "    ps = phasescan()\n",
    "    ps.swap_dict()\n",
    "    pwd = os.getcwd()\n",
    "\n",
    "    readfile  =   os.path.join(pwd,readfile)\n",
    "    outfile   =   os.path.join(pwd,outfile)\n",
    "    \n",
    "    read_list = ps.readList(readfile)\n",
    "    \n",
    "    set_list = ['%s%s'%(s.replace(':','_'),event) for s in ramplist[0] if str(s).find(':')!=-1] if len(ramplist)>0 else []\n",
    "\n",
    "    drf_list = set_list+['%s%s'%(l,evt) for l in read_list if len(read_list)!=0]\n",
    "    \n",
    "    thread = 'scanner'\n",
    "\n",
    "    timeout = 3540 #59 min\n",
    "    \n",
    "    try:\n",
    "        ps.start_thread('%s'%thread,timeout,drf_list,ramplist,ps.role,Nmeas)\n",
    "        \n",
    "    except Exception as e:\n",
    "        print('Scan failed',e)\n",
    "\n",
    "\n",
    "    scanresults = []\n",
    "    while len(ps.get_list_of_threads())>0:\n",
    "        scanresults.extend(ps.get_thread_data('%s'%thread))\n",
    "    try:\n",
    "        ps.fill_write_dataframe_oneTS(scanresults,read_list,outfile)\n",
    "    except Exception as e:\n",
    "        print('Something went wrong',e)\n",
    "        \n",
    "    ps.stop_all_threads()\n"
   ]
  },
  {
   "cell_type": "code",
   "execution_count": null,
   "id": "879523c0",
   "metadata": {
    "scrolled": true
   },
   "outputs": [],
   "source": [
    "\n",
    "ramplist = [\n",
    "['0','Z:CUBE_X',136.0,'Z:CUBE_Y',40.0,'Z:CUBE_Z',80.0],\n",
    "['1','Z:CUBE_X',134.0,'Z:CUBE_Y',40.2,'Z:CUBE_Z',80.1],\n",
    "['1','Z:CUBE_X',140.0,'Z:CUBE_Y',40.3,'Z:CUBE_Z',80.2],\n",
    "['1','Z:CUBE_X',142.0,'Z:CUBE_Y',39.4,'Z:CUBE_Z',80.3],\n",
    "['1','Z:CUBE_X',144.0,'Z:CUBE_Y',40.4,'Z:CUBE_Z',80.4],\n",
    "['1','Z:CUBE_X',146.0,'Z:CUBE_Y',41.4,'Z:CUBE_Z',80.5],\n",
    "]\n",
    "\n",
    "evt = '@e,52,e,0'\n",
    "#evt = '@i'\n",
    "run('Reading_devices.csv',ramplist,1,evt,'testout.csv')"
   ]
  },
  {
   "cell_type": "code",
   "execution_count": 12,
   "id": "cc4fe260",
   "metadata": {},
   "outputs": [],
   "source": [
    "async def read_once(con,drf_list):\n",
    "\n",
    "    settings = [None]*len(drf_list)\n",
    "    async with dpms.DPMContext(con) as dpm:\n",
    "\n",
    "        for i, dev in enumerate(drf_list):\n",
    "            await dpm.add_entry(i, dev+'@q')\n",
    "        await dpm.start()\n",
    "        \n",
    "        async for reply in dpm.replies():\n",
    "            if reply.isReading:\n",
    "                settings[reply.tag]= reply.data\n",
    "            if settings.count(None)==0:\n",
    "                break\n",
    "\n",
    "    print(settings)\n",
    "    return None\n"
   ]
  },
  {
   "cell_type": "code",
   "execution_count": 13,
   "id": "771e27b6",
   "metadata": {},
   "outputs": [],
   "source": [
    "async def set_once(con,set_list,read_list,value_list,settings_role):\n",
    "\n",
    "    setpairs = list(enumerate(value_list))\n",
    "\n",
    "    drf_list = set_list+read_list\n",
    "    settings = [None]*len(drf_list)\n",
    "    async with dpms.DPMContext(con) as dpm:\n",
    "        await dpm.enable_settings(role=settings_role)\n",
    "        for i, dev in enumerate(drf_list):\n",
    "            await dpm.add_entry(i, dev+'@q')\n",
    "        await dpm.start()\n",
    "        \n",
    "        await dpm.apply_settings(setpairs)\n",
    "        print('settings applied')\n",
    "\n",
    "        async for reply in dpm.replies():\n",
    "            if reply.isReading:\n",
    "                settings[reply.tag]= reply.data\n",
    "            if settings.count(None)==0:\n",
    "                break\n",
    "\n",
    "    print(settings)\n",
    "    return None\n"
   ]
  },
  {
   "cell_type": "code",
   "execution_count": 14,
   "id": "cc03afb4",
   "metadata": {},
   "outputs": [
    {
     "name": "stdout",
     "output_type": "stream",
     "text": [
      "[170.0, 41.400001525878906, 60.0]\n",
      "settings applied\n",
      "[170.0, 60.0, 170.0, 41.400001525878906, 60.0]\n"
     ]
    }
   ],
   "source": [
    "sets = ['Z:CUBE_X.SETTING','Z:CUBE_Z.SETTING']\n",
    "reads = ['Z:CUBE_X','Z:CUBE_Y','Z:CUBE_Z']\n",
    "vals = [170.0,60]\n",
    "acsys.run_client(read_once,drf_list=reads)\n",
    "acsys.run_client(set_once, set_list=sets, read_list=reads,value_list=vals,settings_role='testing') "
   ]
  },
  {
   "cell_type": "code",
   "execution_count": null,
   "id": "01bc62b3",
   "metadata": {},
   "outputs": [],
   "source": []
  }
 ],
 "metadata": {
  "kernelspec": {
   "display_name": "Python 3 (ipykernel)",
   "language": "python",
   "name": "python3"
  },
  "language_info": {
   "codemirror_mode": {
    "name": "ipython",
    "version": 3
   },
   "file_extension": ".py",
   "mimetype": "text/x-python",
   "name": "python",
   "nbconvert_exporter": "python",
   "pygments_lexer": "ipython3",
   "version": "3.8.10"
  }
 },
 "nbformat": 4,
 "nbformat_minor": 5
}
