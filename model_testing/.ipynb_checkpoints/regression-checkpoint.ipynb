{
 "cells": [
  {
   "cell_type": "markdown",
   "metadata": {
    "id": "EIdT9iu_Z4Rb"
   },
   "source": [
    "# Basic regression: Predict RFQ phase set point"
   ]
  },
  {
   "cell_type": "markdown",
   "metadata": {
    "id": "AHp3M9ZmrIxj"
   },
   "source": [
    "In a *regression* problem, the aim is to predict the output of a continuous value, like a price or a probability. Contrast this with a *classification* problem, where the aim is to select a class from a list of classes (for example, where a picture contains an apple or an orange, recognizing which fruit is in the picture).\n"
   ]
  },
  {
   "cell_type": "code",
   "execution_count": 6,
   "metadata": {
    "execution": {
     "iopub.execute_input": "2021-06-19T02:12:01.722334Z",
     "iopub.status.busy": "2021-06-19T02:12:01.721620Z",
     "iopub.status.idle": "2021-06-19T02:12:02.459097Z",
     "shell.execute_reply": "2021-06-19T02:12:02.459540Z"
    },
    "id": "1rRo8oNqZ-Rj"
   },
   "outputs": [],
   "source": [
    "import matplotlib.pyplot as plt\n",
    "import numpy as np\n",
    "import pandas as pd\n",
    "import seaborn as sns\n",
    "\n",
    "\n",
    "# Make numpy printouts easier to read.\n",
    "np.set_printoptions(precision=3, suppress=True)"
   ]
  },
  {
   "cell_type": "code",
   "execution_count": 7,
   "metadata": {
    "execution": {
     "iopub.execute_input": "2021-06-19T02:12:02.463722Z",
     "iopub.status.busy": "2021-06-19T02:12:02.463169Z",
     "iopub.status.idle": "2021-06-19T02:12:03.648523Z",
     "shell.execute_reply": "2021-06-19T02:12:03.648892Z"
    },
    "id": "9xQKvCJ85kCQ"
   },
   "outputs": [
    {
     "name": "stdout",
     "output_type": "stream",
     "text": [
      "2.5.0\n"
     ]
    }
   ],
   "source": [
    "import tensorflow as tf\n",
    "\n",
    "from tensorflow import keras\n",
    "from tensorflow.keras import layers\n",
    "from tensorflow.keras.layers.experimental import preprocessing\n",
    "\n",
    "print(tf.__version__)"
   ]
  },
  {
   "cell_type": "markdown",
   "metadata": {
    "id": "gFh9ne3FZ-On"
   },
   "source": [
    "### Get the data\n",
    "First import the dataset using pandas:\n",
    "(make sure to change file path to correct one)"
   ]
  },
  {
   "cell_type": "code",
   "execution_count": 8,
   "metadata": {
    "execution": {
     "iopub.execute_input": "2021-06-19T02:12:03.654722Z",
     "iopub.status.busy": "2021-06-19T02:12:03.654163Z",
     "iopub.status.idle": "2021-06-19T02:12:04.358078Z",
     "shell.execute_reply": "2021-06-19T02:12:04.358528Z"
    },
    "id": "CiX2FI4gZtTt"
   },
   "outputs": [],
   "source": [
    "file = '/Users/rshara01-local/Desktop/LINAC_STUDY/LINAC STUDY 06292021/devicescan_RFQ.csv'\n",
    "raw_dataset = pd.read_csv(file)"
   ]
  },
  {
   "cell_type": "code",
   "execution_count": 9,
   "metadata": {
    "execution": {
     "iopub.execute_input": "2021-06-19T02:12:04.368388Z",
     "iopub.status.busy": "2021-06-19T02:12:04.363518Z",
     "iopub.status.idle": "2021-06-19T02:12:04.375410Z",
     "shell.execute_reply": "2021-06-19T02:12:04.374999Z"
    },
    "id": "2oY3pMPagJrO",
    "scrolled": true
   },
   "outputs": [
    {
     "data": {
      "text/html": [
       "<div>\n",
       "<style scoped>\n",
       "    .dataframe tbody tr th:only-of-type {\n",
       "        vertical-align: middle;\n",
       "    }\n",
       "\n",
       "    .dataframe tbody tr th {\n",
       "        vertical-align: top;\n",
       "    }\n",
       "\n",
       "    .dataframe thead th {\n",
       "        text-align: right;\n",
       "    }\n",
       "</style>\n",
       "<table border=\"1\" class=\"dataframe\">\n",
       "  <thead>\n",
       "    <tr style=\"text-align: right;\">\n",
       "      <th></th>\n",
       "      <th>L:RFQPAH(R)</th>\n",
       "      <th>L:TO1IN(R)</th>\n",
       "      <th>L:TO3IN(R)</th>\n",
       "      <th>L:TO4IN(R)</th>\n",
       "      <th>L:TO4OUT(R)</th>\n",
       "      <th>L:TO5OUT(R)</th>\n",
       "      <th>L:D0TOR(R)</th>\n",
       "      <th>L:D1TOR(R)</th>\n",
       "      <th>L:D2TOR(R)</th>\n",
       "      <th>L:D5TOR(R)</th>\n",
       "      <th>...</th>\n",
       "      <th>L:D53LM(R)</th>\n",
       "      <th>L:D54LM(R)</th>\n",
       "      <th>L:D61LM(R)</th>\n",
       "      <th>L:D62LM(R)</th>\n",
       "      <th>L:D63LM(R)</th>\n",
       "      <th>L:D64LM(R)</th>\n",
       "      <th>L:D71LM(R)</th>\n",
       "      <th>L:D72LM(R)</th>\n",
       "      <th>L:D73LM(R)</th>\n",
       "      <th>L:D74LM(R)</th>\n",
       "    </tr>\n",
       "  </thead>\n",
       "  <tbody>\n",
       "    <tr>\n",
       "      <th>635</th>\n",
       "      <td>190.002441</td>\n",
       "      <td>23.017277</td>\n",
       "      <td>18.795180</td>\n",
       "      <td>18.666168</td>\n",
       "      <td>6.582642</td>\n",
       "      <td>18.617201</td>\n",
       "      <td>13.325138</td>\n",
       "      <td>15.475517</td>\n",
       "      <td>20.179916</td>\n",
       "      <td>18.586383</td>\n",
       "      <td>...</td>\n",
       "      <td>0.177002</td>\n",
       "      <td>2.062988</td>\n",
       "      <td>0.122070</td>\n",
       "      <td>0.061035</td>\n",
       "      <td>0.021362</td>\n",
       "      <td>0.817871</td>\n",
       "      <td>0.122070</td>\n",
       "      <td>0.112915</td>\n",
       "      <td>0.036621</td>\n",
       "      <td>0.207520</td>\n",
       "    </tr>\n",
       "    <tr>\n",
       "      <th>636</th>\n",
       "      <td>190.002441</td>\n",
       "      <td>23.001675</td>\n",
       "      <td>18.782538</td>\n",
       "      <td>18.610761</td>\n",
       "      <td>5.859375</td>\n",
       "      <td>18.525097</td>\n",
       "      <td>13.343362</td>\n",
       "      <td>15.312617</td>\n",
       "      <td>20.158412</td>\n",
       "      <td>18.729045</td>\n",
       "      <td>...</td>\n",
       "      <td>0.155640</td>\n",
       "      <td>2.020264</td>\n",
       "      <td>0.131226</td>\n",
       "      <td>-0.003052</td>\n",
       "      <td>-0.006104</td>\n",
       "      <td>0.827026</td>\n",
       "      <td>0.134277</td>\n",
       "      <td>0.103760</td>\n",
       "      <td>0.045776</td>\n",
       "      <td>0.247192</td>\n",
       "    </tr>\n",
       "    <tr>\n",
       "      <th>637</th>\n",
       "      <td>190.002441</td>\n",
       "      <td>23.235717</td>\n",
       "      <td>19.006930</td>\n",
       "      <td>18.789296</td>\n",
       "      <td>6.665039</td>\n",
       "      <td>18.770707</td>\n",
       "      <td>13.467896</td>\n",
       "      <td>15.710469</td>\n",
       "      <td>20.213708</td>\n",
       "      <td>18.877910</td>\n",
       "      <td>...</td>\n",
       "      <td>0.180054</td>\n",
       "      <td>2.020264</td>\n",
       "      <td>0.146484</td>\n",
       "      <td>0.018311</td>\n",
       "      <td>-0.027466</td>\n",
       "      <td>0.836182</td>\n",
       "      <td>0.143433</td>\n",
       "      <td>0.103760</td>\n",
       "      <td>0.012207</td>\n",
       "      <td>0.247192</td>\n",
       "    </tr>\n",
       "    <tr>\n",
       "      <th>638</th>\n",
       "      <td>190.002441</td>\n",
       "      <td>23.101533</td>\n",
       "      <td>18.788859</td>\n",
       "      <td>18.623074</td>\n",
       "      <td>5.844116</td>\n",
       "      <td>18.537378</td>\n",
       "      <td>13.200604</td>\n",
       "      <td>15.444190</td>\n",
       "      <td>20.090829</td>\n",
       "      <td>18.617397</td>\n",
       "      <td>...</td>\n",
       "      <td>0.180054</td>\n",
       "      <td>1.928711</td>\n",
       "      <td>0.158691</td>\n",
       "      <td>0.018311</td>\n",
       "      <td>-0.015259</td>\n",
       "      <td>0.772095</td>\n",
       "      <td>0.128174</td>\n",
       "      <td>0.115967</td>\n",
       "      <td>0.027466</td>\n",
       "      <td>0.228882</td>\n",
       "    </tr>\n",
       "    <tr>\n",
       "      <th>639</th>\n",
       "      <td>190.002441</td>\n",
       "      <td>22.986072</td>\n",
       "      <td>18.662441</td>\n",
       "      <td>18.493789</td>\n",
       "      <td>5.603027</td>\n",
       "      <td>18.456019</td>\n",
       "      <td>13.234015</td>\n",
       "      <td>15.184176</td>\n",
       "      <td>20.072397</td>\n",
       "      <td>18.546066</td>\n",
       "      <td>...</td>\n",
       "      <td>0.167847</td>\n",
       "      <td>1.861572</td>\n",
       "      <td>0.119019</td>\n",
       "      <td>0.033569</td>\n",
       "      <td>0.018311</td>\n",
       "      <td>0.845337</td>\n",
       "      <td>0.131226</td>\n",
       "      <td>0.131226</td>\n",
       "      <td>0.036621</td>\n",
       "      <td>0.201416</td>\n",
       "    </tr>\n",
       "  </tbody>\n",
       "</table>\n",
       "<p>5 rows × 40 columns</p>\n",
       "</div>"
      ],
      "text/plain": [
       "     L:RFQPAH(R)  L:TO1IN(R)  L:TO3IN(R)  L:TO4IN(R)  L:TO4OUT(R)  \\\n",
       "635   190.002441   23.017277   18.795180   18.666168     6.582642   \n",
       "636   190.002441   23.001675   18.782538   18.610761     5.859375   \n",
       "637   190.002441   23.235717   19.006930   18.789296     6.665039   \n",
       "638   190.002441   23.101533   18.788859   18.623074     5.844116   \n",
       "639   190.002441   22.986072   18.662441   18.493789     5.603027   \n",
       "\n",
       "     L:TO5OUT(R)  L:D0TOR(R)  L:D1TOR(R)  L:D2TOR(R)  L:D5TOR(R)  ...  \\\n",
       "635    18.617201   13.325138   15.475517   20.179916   18.586383  ...   \n",
       "636    18.525097   13.343362   15.312617   20.158412   18.729045  ...   \n",
       "637    18.770707   13.467896   15.710469   20.213708   18.877910  ...   \n",
       "638    18.537378   13.200604   15.444190   20.090829   18.617397  ...   \n",
       "639    18.456019   13.234015   15.184176   20.072397   18.546066  ...   \n",
       "\n",
       "     L:D53LM(R)  L:D54LM(R)  L:D61LM(R)  L:D62LM(R)  L:D63LM(R)  L:D64LM(R)  \\\n",
       "635    0.177002    2.062988    0.122070    0.061035    0.021362    0.817871   \n",
       "636    0.155640    2.020264    0.131226   -0.003052   -0.006104    0.827026   \n",
       "637    0.180054    2.020264    0.146484    0.018311   -0.027466    0.836182   \n",
       "638    0.180054    1.928711    0.158691    0.018311   -0.015259    0.772095   \n",
       "639    0.167847    1.861572    0.119019    0.033569    0.018311    0.845337   \n",
       "\n",
       "     L:D71LM(R)  L:D72LM(R)  L:D73LM(R)  L:D74LM(R)  \n",
       "635    0.122070    0.112915    0.036621    0.207520  \n",
       "636    0.134277    0.103760    0.045776    0.247192  \n",
       "637    0.143433    0.103760    0.012207    0.247192  \n",
       "638    0.128174    0.115967    0.027466    0.228882  \n",
       "639    0.131226    0.131226    0.036621    0.201416  \n",
       "\n",
       "[5 rows x 40 columns]"
      ]
     },
     "execution_count": 9,
     "metadata": {},
     "output_type": "execute_result"
    }
   ],
   "source": [
    "dataset = raw_dataset.copy()\n",
    "dataset.drop(list(dataset.filter(regex = '(S)')), axis = 1, inplace = True)\n",
    "dataset.drop(list(dataset.filter(regex = 'BPV')), axis = 1, inplace = True)\n",
    "dataset.drop(list(dataset.filter(regex = 'BPH')), axis = 1, inplace = True)\n",
    "dataset.drop(list(dataset.filter(regex = 'Timestamp')), axis = 1, inplace = True)\n",
    "dataset.drop(columns=['iteration','step'], inplace = True)\n",
    "dataset.tail()"
   ]
  },
  {
   "cell_type": "markdown",
   "metadata": {
    "id": "3MWuJTKEDM-f"
   },
   "source": [
    "### Clean the data\n",
    "\n",
    "The dataset may contain unknown values (NaN)."
   ]
  },
  {
   "cell_type": "code",
   "execution_count": 10,
   "metadata": {
    "execution": {
     "iopub.execute_input": "2021-06-19T02:12:04.381115Z",
     "iopub.status.busy": "2021-06-19T02:12:04.380384Z",
     "iopub.status.idle": "2021-06-19T02:12:04.383506Z",
     "shell.execute_reply": "2021-06-19T02:12:04.383034Z"
    },
    "id": "JEJHhN65a2VV"
   },
   "outputs": [
    {
     "data": {
      "text/plain": [
       "L:RFQPAH(R)    0\n",
       "L:TO1IN(R)     0\n",
       "L:TO3IN(R)     0\n",
       "L:TO4IN(R)     0\n",
       "L:TO4OUT(R)    0\n",
       "L:TO5OUT(R)    0\n",
       "L:D0TOR(R)     0\n",
       "L:D1TOR(R)     0\n",
       "L:D2TOR(R)     0\n",
       "L:D5TOR(R)     0\n",
       "L:D7TOR(R)     0\n",
       "L:D00LM(R)     0\n",
       "L:D11LM(R)     0\n",
       "L:D12LM(R)     0\n",
       "L:D13LM(R)     0\n",
       "L:D14LM(R)     0\n",
       "L:D21LM(R)     0\n",
       "L:D22LM(R)     0\n",
       "L:D23LM(R)     0\n",
       "L:D24LM(R)     0\n",
       "L:D31LM(R)     0\n",
       "L:D32LM(R)     0\n",
       "L:D33LM(R)     0\n",
       "L:D34LM(R)     0\n",
       "L:D41LM(R)     0\n",
       "L:D42LM(R)     0\n",
       "L:D43LM(R)     0\n",
       "L:D44LM(R)     0\n",
       "L:D51LM(R)     0\n",
       "L:D52LM(R)     0\n",
       "L:D53LM(R)     0\n",
       "L:D54LM(R)     0\n",
       "L:D61LM(R)     0\n",
       "L:D62LM(R)     0\n",
       "L:D63LM(R)     0\n",
       "L:D64LM(R)     0\n",
       "L:D71LM(R)     0\n",
       "L:D72LM(R)     0\n",
       "L:D73LM(R)     0\n",
       "L:D74LM(R)     0\n",
       "dtype: int64"
      ]
     },
     "execution_count": 10,
     "metadata": {},
     "output_type": "execute_result"
    }
   ],
   "source": [
    "dataset.isna().sum()"
   ]
  },
  {
   "cell_type": "markdown",
   "metadata": {
    "id": "9UPN0KBHa_WI"
   },
   "source": [
    "Drop those rows."
   ]
  },
  {
   "cell_type": "code",
   "execution_count": 11,
   "metadata": {
    "execution": {
     "iopub.execute_input": "2021-06-19T02:12:04.388417Z",
     "iopub.status.busy": "2021-06-19T02:12:04.387843Z",
     "iopub.status.idle": "2021-06-19T02:12:04.391275Z",
     "shell.execute_reply": "2021-06-19T02:12:04.390853Z"
    },
    "id": "4ZUDosChC1UN"
   },
   "outputs": [],
   "source": [
    "dataset = dataset.dropna()"
   ]
  },
  {
   "cell_type": "markdown",
   "metadata": {
    "id": "Cuym4yvk76vU"
   },
   "source": [
    "### Split the data into train and test\n",
    "\n",
    "Now split the dataset into a training set and a test set.\n",
    "\n",
    "Use the test set in the final evaluation of your models."
   ]
  },
  {
   "cell_type": "code",
   "execution_count": 12,
   "metadata": {
    "execution": {
     "iopub.execute_input": "2021-06-19T02:12:04.419796Z",
     "iopub.status.busy": "2021-06-19T02:12:04.419237Z",
     "iopub.status.idle": "2021-06-19T02:12:04.421475Z",
     "shell.execute_reply": "2021-06-19T02:12:04.421085Z"
    },
    "id": "qn-IGhUE7_1H"
   },
   "outputs": [],
   "source": [
    "train_dataset = dataset.sample(frac=0.8, random_state=0)\n",
    "test_dataset = dataset.drop(train_dataset.index)"
   ]
  },
  {
   "cell_type": "markdown",
   "metadata": {
    "id": "J4ubs136WLNp"
   },
   "source": [
    "### Inspect the data\n",
    "\n",
    "Have a quick look at the joint distribution of a few pairs of columns from the training set."
   ]
  },
  {
   "cell_type": "code",
   "execution_count": 73,
   "metadata": {
    "execution": {
     "iopub.execute_input": "2021-06-19T02:12:04.661447Z",
     "iopub.status.busy": "2021-06-19T02:12:04.454498Z",
     "iopub.status.idle": "2021-06-19T02:12:06.519885Z",
     "shell.execute_reply": "2021-06-19T02:12:06.520249Z"
    },
    "id": "oRKO_x8gWKv-"
   },
   "outputs": [
    {
     "data": {
      "text/plain": [
       "<seaborn.axisgrid.PairGrid at 0x2ac7cf460>"
      ]
     },
     "execution_count": 73,
     "metadata": {},
     "output_type": "execute_result"
    },
    {
     "data": {
      "image/png": "[encoded data removed]",
      "text/plain": [
       "<Figure size 360x360 with 30 Axes>"
      ]
     },
     "metadata": {
      "needs_background": "light"
     },
     "output_type": "display_data"
    }
   ],
   "source": [
    "sns.pairplot(train_dataset[['L:RFQPAH(R)', 'L:TO1IN(R)', 'L:D7TOR(R)', 'L:D00LM(R)' ,'L:D74LM(R)']], kind='scatter',diag_kind='auto', height=1.0)"
   ]
  },
  {
   "cell_type": "markdown",
   "metadata": {
    "id": "gavKO_6DWRMP"
   },
   "source": [
    "Also look at the overall statistics, note how each feature covers a very different range:"
   ]
  },
  {
   "cell_type": "code",
   "execution_count": 22,
   "metadata": {
    "execution": {
     "iopub.execute_input": "2021-06-19T02:12:06.527891Z",
     "iopub.status.busy": "2021-06-19T02:12:06.526080Z",
     "iopub.status.idle": "2021-06-19T02:12:06.555002Z",
     "shell.execute_reply": "2021-06-19T02:12:06.554585Z"
    },
    "id": "yi2FzC3T21jR"
   },
   "outputs": [
    {
     "data": {
      "text/html": [
       "<div>\n",
       "<style scoped>\n",
       "    .dataframe tbody tr th:only-of-type {\n",
       "        vertical-align: middle;\n",
       "    }\n",
       "\n",
       "    .dataframe tbody tr th {\n",
       "        vertical-align: top;\n",
       "    }\n",
       "\n",
       "    .dataframe thead th {\n",
       "        text-align: right;\n",
       "    }\n",
       "</style>\n",
       "<table border=\"1\" class=\"dataframe\">\n",
       "  <thead>\n",
       "    <tr style=\"text-align: right;\">\n",
       "      <th></th>\n",
       "      <th>count</th>\n",
       "      <th>mean</th>\n",
       "      <th>std</th>\n",
       "      <th>min</th>\n",
       "      <th>25%</th>\n",
       "      <th>50%</th>\n",
       "      <th>75%</th>\n",
       "      <th>max</th>\n",
       "    </tr>\n",
       "  </thead>\n",
       "  <tbody>\n",
       "    <tr>\n",
       "      <th>L:RFQPAH(R)</th>\n",
       "      <td>512.0</td>\n",
       "      <td>159.604454</td>\n",
       "      <td>18.421085</td>\n",
       "      <td>128.002930</td>\n",
       "      <td>144.000244</td>\n",
       "      <td>160.003662</td>\n",
       "      <td>176.000977</td>\n",
       "      <td>190.002441</td>\n",
       "    </tr>\n",
       "    <tr>\n",
       "      <th>L:TO1IN(R)</th>\n",
       "      <td>512.0</td>\n",
       "      <td>23.404361</td>\n",
       "      <td>0.250555</td>\n",
       "      <td>22.820682</td>\n",
       "      <td>23.213093</td>\n",
       "      <td>23.402667</td>\n",
       "      <td>23.598482</td>\n",
       "      <td>24.134439</td>\n",
       "    </tr>\n",
       "    <tr>\n",
       "      <th>L:TO3IN(R)</th>\n",
       "      <td>512.0</td>\n",
       "      <td>20.612455</td>\n",
       "      <td>0.767673</td>\n",
       "      <td>18.586590</td>\n",
       "      <td>20.093333</td>\n",
       "      <td>20.870013</td>\n",
       "      <td>21.229514</td>\n",
       "      <td>21.724914</td>\n",
       "    </tr>\n",
       "    <tr>\n",
       "      <th>L:TO4IN(R)</th>\n",
       "      <td>512.0</td>\n",
       "      <td>20.434939</td>\n",
       "      <td>0.768845</td>\n",
       "      <td>18.453773</td>\n",
       "      <td>19.912837</td>\n",
       "      <td>20.710089</td>\n",
       "      <td>21.045612</td>\n",
       "      <td>21.550436</td>\n",
       "    </tr>\n",
       "    <tr>\n",
       "      <th>L:TO4OUT(R)</th>\n",
       "      <td>512.0</td>\n",
       "      <td>5.840182</td>\n",
       "      <td>0.804889</td>\n",
       "      <td>3.445435</td>\n",
       "      <td>5.329895</td>\n",
       "      <td>5.867004</td>\n",
       "      <td>6.434631</td>\n",
       "      <td>7.925415</td>\n",
       "    </tr>\n",
       "    <tr>\n",
       "      <th>L:TO5OUT(R)</th>\n",
       "      <td>512.0</td>\n",
       "      <td>20.369750</td>\n",
       "      <td>0.786539</td>\n",
       "      <td>18.374661</td>\n",
       "      <td>19.847935</td>\n",
       "      <td>20.638874</td>\n",
       "      <td>21.002299</td>\n",
       "      <td>21.443245</td>\n",
       "    </tr>\n",
       "    <tr>\n",
       "      <th>L:D0TOR(R)</th>\n",
       "      <td>512.0</td>\n",
       "      <td>15.208133</td>\n",
       "      <td>0.819377</td>\n",
       "      <td>13.161117</td>\n",
       "      <td>14.629707</td>\n",
       "      <td>15.493852</td>\n",
       "      <td>15.876566</td>\n",
       "      <td>16.368627</td>\n",
       "    </tr>\n",
       "    <tr>\n",
       "      <th>L:D1TOR(R)</th>\n",
       "      <td>512.0</td>\n",
       "      <td>17.376182</td>\n",
       "      <td>0.859195</td>\n",
       "      <td>15.068267</td>\n",
       "      <td>16.792816</td>\n",
       "      <td>17.624546</td>\n",
       "      <td>18.049810</td>\n",
       "      <td>18.677132</td>\n",
       "    </tr>\n",
       "    <tr>\n",
       "      <th>L:D2TOR(R)</th>\n",
       "      <td>512.0</td>\n",
       "      <td>22.049536</td>\n",
       "      <td>0.838472</td>\n",
       "      <td>19.906509</td>\n",
       "      <td>21.464009</td>\n",
       "      <td>22.307271</td>\n",
       "      <td>22.729670</td>\n",
       "      <td>23.208901</td>\n",
       "    </tr>\n",
       "    <tr>\n",
       "      <th>L:D5TOR(R)</th>\n",
       "      <td>512.0</td>\n",
       "      <td>20.692726</td>\n",
       "      <td>0.842707</td>\n",
       "      <td>18.546066</td>\n",
       "      <td>20.113798</td>\n",
       "      <td>20.960466</td>\n",
       "      <td>21.378373</td>\n",
       "      <td>21.886219</td>\n",
       "    </tr>\n",
       "    <tr>\n",
       "      <th>L:D7TOR(R)</th>\n",
       "      <td>512.0</td>\n",
       "      <td>20.069425</td>\n",
       "      <td>0.801225</td>\n",
       "      <td>18.031195</td>\n",
       "      <td>19.508228</td>\n",
       "      <td>20.329140</td>\n",
       "      <td>20.721750</td>\n",
       "      <td>21.147773</td>\n",
       "    </tr>\n",
       "    <tr>\n",
       "      <th>L:D00LM(R)</th>\n",
       "      <td>512.0</td>\n",
       "      <td>0.389987</td>\n",
       "      <td>0.118784</td>\n",
       "      <td>0.195312</td>\n",
       "      <td>0.302124</td>\n",
       "      <td>0.349426</td>\n",
       "      <td>0.456238</td>\n",
       "      <td>0.762939</td>\n",
       "    </tr>\n",
       "    <tr>\n",
       "      <th>L:D11LM(R)</th>\n",
       "      <td>512.0</td>\n",
       "      <td>0.291920</td>\n",
       "      <td>0.035145</td>\n",
       "      <td>0.201416</td>\n",
       "      <td>0.265503</td>\n",
       "      <td>0.292969</td>\n",
       "      <td>0.317383</td>\n",
       "      <td>0.393677</td>\n",
       "    </tr>\n",
       "    <tr>\n",
       "      <th>L:D12LM(R)</th>\n",
       "      <td>512.0</td>\n",
       "      <td>0.038761</td>\n",
       "      <td>0.018404</td>\n",
       "      <td>-0.009155</td>\n",
       "      <td>0.024414</td>\n",
       "      <td>0.036621</td>\n",
       "      <td>0.051880</td>\n",
       "      <td>0.100708</td>\n",
       "    </tr>\n",
       "    <tr>\n",
       "      <th>L:D13LM(R)</th>\n",
       "      <td>512.0</td>\n",
       "      <td>0.080603</td>\n",
       "      <td>0.065791</td>\n",
       "      <td>-0.433350</td>\n",
       "      <td>0.051880</td>\n",
       "      <td>0.070190</td>\n",
       "      <td>0.106812</td>\n",
       "      <td>0.274658</td>\n",
       "    </tr>\n",
       "    <tr>\n",
       "      <th>L:D14LM(R)</th>\n",
       "      <td>512.0</td>\n",
       "      <td>0.536048</td>\n",
       "      <td>0.158434</td>\n",
       "      <td>0.241089</td>\n",
       "      <td>0.369263</td>\n",
       "      <td>0.573730</td>\n",
       "      <td>0.674438</td>\n",
       "      <td>0.863647</td>\n",
       "    </tr>\n",
       "    <tr>\n",
       "      <th>L:D21LM(R)</th>\n",
       "      <td>512.0</td>\n",
       "      <td>0.454193</td>\n",
       "      <td>0.162818</td>\n",
       "      <td>-0.225830</td>\n",
       "      <td>0.302124</td>\n",
       "      <td>0.463867</td>\n",
       "      <td>0.598907</td>\n",
       "      <td>0.811768</td>\n",
       "    </tr>\n",
       "    <tr>\n",
       "      <th>L:D22LM(R)</th>\n",
       "      <td>512.0</td>\n",
       "      <td>0.070655</td>\n",
       "      <td>0.067281</td>\n",
       "      <td>-0.436401</td>\n",
       "      <td>0.036621</td>\n",
       "      <td>0.064087</td>\n",
       "      <td>0.109863</td>\n",
       "      <td>0.271606</td>\n",
       "    </tr>\n",
       "    <tr>\n",
       "      <th>L:D23LM(R)</th>\n",
       "      <td>512.0</td>\n",
       "      <td>0.073719</td>\n",
       "      <td>0.056235</td>\n",
       "      <td>-0.234985</td>\n",
       "      <td>0.033569</td>\n",
       "      <td>0.073242</td>\n",
       "      <td>0.112915</td>\n",
       "      <td>0.213623</td>\n",
       "    </tr>\n",
       "    <tr>\n",
       "      <th>L:D24LM(R)</th>\n",
       "      <td>512.0</td>\n",
       "      <td>0.670367</td>\n",
       "      <td>0.100451</td>\n",
       "      <td>0.106812</td>\n",
       "      <td>0.619507</td>\n",
       "      <td>0.686646</td>\n",
       "      <td>0.732422</td>\n",
       "      <td>0.903320</td>\n",
       "    </tr>\n",
       "    <tr>\n",
       "      <th>L:D31LM(R)</th>\n",
       "      <td>512.0</td>\n",
       "      <td>0.869513</td>\n",
       "      <td>0.289914</td>\n",
       "      <td>0.201416</td>\n",
       "      <td>0.698090</td>\n",
       "      <td>0.915527</td>\n",
       "      <td>1.068115</td>\n",
       "      <td>1.641846</td>\n",
       "    </tr>\n",
       "    <tr>\n",
       "      <th>L:D32LM(R)</th>\n",
       "      <td>512.0</td>\n",
       "      <td>0.108224</td>\n",
       "      <td>0.032225</td>\n",
       "      <td>0.009155</td>\n",
       "      <td>0.085449</td>\n",
       "      <td>0.109863</td>\n",
       "      <td>0.131226</td>\n",
       "      <td>0.189209</td>\n",
       "    </tr>\n",
       "    <tr>\n",
       "      <th>L:D33LM(R)</th>\n",
       "      <td>512.0</td>\n",
       "      <td>0.806379</td>\n",
       "      <td>0.612126</td>\n",
       "      <td>0.115967</td>\n",
       "      <td>0.253296</td>\n",
       "      <td>0.558472</td>\n",
       "      <td>1.388550</td>\n",
       "      <td>2.313232</td>\n",
       "    </tr>\n",
       "    <tr>\n",
       "      <th>L:D34LM(R)</th>\n",
       "      <td>512.0</td>\n",
       "      <td>0.689501</td>\n",
       "      <td>0.165140</td>\n",
       "      <td>0.341797</td>\n",
       "      <td>0.543213</td>\n",
       "      <td>0.697327</td>\n",
       "      <td>0.811768</td>\n",
       "      <td>1.174927</td>\n",
       "    </tr>\n",
       "    <tr>\n",
       "      <th>L:D41LM(R)</th>\n",
       "      <td>512.0</td>\n",
       "      <td>0.005472</td>\n",
       "      <td>0.016714</td>\n",
       "      <td>-0.051880</td>\n",
       "      <td>-0.006104</td>\n",
       "      <td>0.006104</td>\n",
       "      <td>0.015259</td>\n",
       "      <td>0.057983</td>\n",
       "    </tr>\n",
       "    <tr>\n",
       "      <th>L:D42LM(R)</th>\n",
       "      <td>512.0</td>\n",
       "      <td>0.076264</td>\n",
       "      <td>0.054221</td>\n",
       "      <td>-0.384521</td>\n",
       "      <td>0.057983</td>\n",
       "      <td>0.077820</td>\n",
       "      <td>0.100708</td>\n",
       "      <td>0.250244</td>\n",
       "    </tr>\n",
       "    <tr>\n",
       "      <th>L:D43LM(R)</th>\n",
       "      <td>512.0</td>\n",
       "      <td>0.160593</td>\n",
       "      <td>0.142994</td>\n",
       "      <td>-0.418091</td>\n",
       "      <td>0.036621</td>\n",
       "      <td>0.138855</td>\n",
       "      <td>0.266266</td>\n",
       "      <td>0.564575</td>\n",
       "    </tr>\n",
       "    <tr>\n",
       "      <th>L:D44LM(R)</th>\n",
       "      <td>512.0</td>\n",
       "      <td>0.010014</td>\n",
       "      <td>0.016062</td>\n",
       "      <td>-0.033569</td>\n",
       "      <td>0.000000</td>\n",
       "      <td>0.009155</td>\n",
       "      <td>0.021362</td>\n",
       "      <td>0.067139</td>\n",
       "    </tr>\n",
       "    <tr>\n",
       "      <th>L:D51LM(R)</th>\n",
       "      <td>512.0</td>\n",
       "      <td>0.046134</td>\n",
       "      <td>0.046508</td>\n",
       "      <td>-0.378418</td>\n",
       "      <td>0.027466</td>\n",
       "      <td>0.048828</td>\n",
       "      <td>0.067139</td>\n",
       "      <td>0.170898</td>\n",
       "    </tr>\n",
       "    <tr>\n",
       "      <th>L:D52LM(R)</th>\n",
       "      <td>512.0</td>\n",
       "      <td>0.005585</td>\n",
       "      <td>0.016793</td>\n",
       "      <td>-0.039673</td>\n",
       "      <td>-0.006104</td>\n",
       "      <td>0.006104</td>\n",
       "      <td>0.018311</td>\n",
       "      <td>0.051880</td>\n",
       "    </tr>\n",
       "    <tr>\n",
       "      <th>L:D53LM(R)</th>\n",
       "      <td>512.0</td>\n",
       "      <td>0.199670</td>\n",
       "      <td>0.115033</td>\n",
       "      <td>0.015259</td>\n",
       "      <td>0.093842</td>\n",
       "      <td>0.192261</td>\n",
       "      <td>0.289917</td>\n",
       "      <td>0.549316</td>\n",
       "    </tr>\n",
       "    <tr>\n",
       "      <th>L:D54LM(R)</th>\n",
       "      <td>512.0</td>\n",
       "      <td>0.953048</td>\n",
       "      <td>0.486177</td>\n",
       "      <td>0.183105</td>\n",
       "      <td>0.600433</td>\n",
       "      <td>0.878906</td>\n",
       "      <td>1.145172</td>\n",
       "      <td>2.581787</td>\n",
       "    </tr>\n",
       "    <tr>\n",
       "      <th>L:D61LM(R)</th>\n",
       "      <td>512.0</td>\n",
       "      <td>0.019211</td>\n",
       "      <td>0.049903</td>\n",
       "      <td>-0.079346</td>\n",
       "      <td>-0.012207</td>\n",
       "      <td>0.009155</td>\n",
       "      <td>0.033569</td>\n",
       "      <td>0.277710</td>\n",
       "    </tr>\n",
       "    <tr>\n",
       "      <th>L:D62LM(R)</th>\n",
       "      <td>512.0</td>\n",
       "      <td>-0.003088</td>\n",
       "      <td>0.020501</td>\n",
       "      <td>-0.064087</td>\n",
       "      <td>-0.015259</td>\n",
       "      <td>-0.003052</td>\n",
       "      <td>0.012207</td>\n",
       "      <td>0.061035</td>\n",
       "    </tr>\n",
       "    <tr>\n",
       "      <th>L:D63LM(R)</th>\n",
       "      <td>512.0</td>\n",
       "      <td>0.313258</td>\n",
       "      <td>0.275621</td>\n",
       "      <td>-0.299072</td>\n",
       "      <td>0.091553</td>\n",
       "      <td>0.196838</td>\n",
       "      <td>0.537872</td>\n",
       "      <td>0.994873</td>\n",
       "    </tr>\n",
       "    <tr>\n",
       "      <th>L:D64LM(R)</th>\n",
       "      <td>512.0</td>\n",
       "      <td>0.867021</td>\n",
       "      <td>0.058726</td>\n",
       "      <td>0.689697</td>\n",
       "      <td>0.830078</td>\n",
       "      <td>0.875854</td>\n",
       "      <td>0.910187</td>\n",
       "      <td>1.007080</td>\n",
       "    </tr>\n",
       "    <tr>\n",
       "      <th>L:D71LM(R)</th>\n",
       "      <td>512.0</td>\n",
       "      <td>0.136000</td>\n",
       "      <td>0.024551</td>\n",
       "      <td>0.070190</td>\n",
       "      <td>0.119019</td>\n",
       "      <td>0.137329</td>\n",
       "      <td>0.152588</td>\n",
       "      <td>0.201416</td>\n",
       "    </tr>\n",
       "    <tr>\n",
       "      <th>L:D72LM(R)</th>\n",
       "      <td>512.0</td>\n",
       "      <td>0.111061</td>\n",
       "      <td>0.023949</td>\n",
       "      <td>0.045776</td>\n",
       "      <td>0.094604</td>\n",
       "      <td>0.109863</td>\n",
       "      <td>0.128174</td>\n",
       "      <td>0.186157</td>\n",
       "    </tr>\n",
       "    <tr>\n",
       "      <th>L:D73LM(R)</th>\n",
       "      <td>512.0</td>\n",
       "      <td>0.032687</td>\n",
       "      <td>0.015611</td>\n",
       "      <td>-0.015259</td>\n",
       "      <td>0.021362</td>\n",
       "      <td>0.033569</td>\n",
       "      <td>0.042725</td>\n",
       "      <td>0.079346</td>\n",
       "    </tr>\n",
       "    <tr>\n",
       "      <th>L:D74LM(R)</th>\n",
       "      <td>512.0</td>\n",
       "      <td>0.223756</td>\n",
       "      <td>0.038564</td>\n",
       "      <td>0.119019</td>\n",
       "      <td>0.201416</td>\n",
       "      <td>0.234985</td>\n",
       "      <td>0.253296</td>\n",
       "      <td>0.296021</td>\n",
       "    </tr>\n",
       "  </tbody>\n",
       "</table>\n",
       "</div>"
      ],
      "text/plain": [
       "             count        mean        std         min         25%         50%  \\\n",
       "L:RFQPAH(R)  512.0  159.604454  18.421085  128.002930  144.000244  160.003662   \n",
       "L:TO1IN(R)   512.0   23.404361   0.250555   22.820682   23.213093   23.402667   \n",
       "L:TO3IN(R)   512.0   20.612455   0.767673   18.586590   20.093333   20.870013   \n",
       "L:TO4IN(R)   512.0   20.434939   0.768845   18.453773   19.912837   20.710089   \n",
       "L:TO4OUT(R)  512.0    5.840182   0.804889    3.445435    5.329895    5.867004   \n",
       "L:TO5OUT(R)  512.0   20.369750   0.786539   18.374661   19.847935   20.638874   \n",
       "L:D0TOR(R)   512.0   15.208133   0.819377   13.161117   14.629707   15.493852   \n",
       "L:D1TOR(R)   512.0   17.376182   0.859195   15.068267   16.792816   17.624546   \n",
       "L:D2TOR(R)   512.0   22.049536   0.838472   19.906509   21.464009   22.307271   \n",
       "L:D5TOR(R)   512.0   20.692726   0.842707   18.546066   20.113798   20.960466   \n",
       "L:D7TOR(R)   512.0   20.069425   0.801225   18.031195   19.508228   20.329140   \n",
       "L:D00LM(R)   512.0    0.389987   0.118784    0.195312    0.302124    0.349426   \n",
       "L:D11LM(R)   512.0    0.291920   0.035145    0.201416    0.265503    0.292969   \n",
       "L:D12LM(R)   512.0    0.038761   0.018404   -0.009155    0.024414    0.036621   \n",
       "L:D13LM(R)   512.0    0.080603   0.065791   -0.433350    0.051880    0.070190   \n",
       "L:D14LM(R)   512.0    0.536048   0.158434    0.241089    0.369263    0.573730   \n",
       "L:D21LM(R)   512.0    0.454193   0.162818   -0.225830    0.302124    0.463867   \n",
       "L:D22LM(R)   512.0    0.070655   0.067281   -0.436401    0.036621    0.064087   \n",
       "L:D23LM(R)   512.0    0.073719   0.056235   -0.234985    0.033569    0.073242   \n",
       "L:D24LM(R)   512.0    0.670367   0.100451    0.106812    0.619507    0.686646   \n",
       "L:D31LM(R)   512.0    0.869513   0.289914    0.201416    0.698090    0.915527   \n",
       "L:D32LM(R)   512.0    0.108224   0.032225    0.009155    0.085449    0.109863   \n",
       "L:D33LM(R)   512.0    0.806379   0.612126    0.115967    0.253296    0.558472   \n",
       "L:D34LM(R)   512.0    0.689501   0.165140    0.341797    0.543213    0.697327   \n",
       "L:D41LM(R)   512.0    0.005472   0.016714   -0.051880   -0.006104    0.006104   \n",
       "L:D42LM(R)   512.0    0.076264   0.054221   -0.384521    0.057983    0.077820   \n",
       "L:D43LM(R)   512.0    0.160593   0.142994   -0.418091    0.036621    0.138855   \n",
       "L:D44LM(R)   512.0    0.010014   0.016062   -0.033569    0.000000    0.009155   \n",
       "L:D51LM(R)   512.0    0.046134   0.046508   -0.378418    0.027466    0.048828   \n",
       "L:D52LM(R)   512.0    0.005585   0.016793   -0.039673   -0.006104    0.006104   \n",
       "L:D53LM(R)   512.0    0.199670   0.115033    0.015259    0.093842    0.192261   \n",
       "L:D54LM(R)   512.0    0.953048   0.486177    0.183105    0.600433    0.878906   \n",
       "L:D61LM(R)   512.0    0.019211   0.049903   -0.079346   -0.012207    0.009155   \n",
       "L:D62LM(R)   512.0   -0.003088   0.020501   -0.064087   -0.015259   -0.003052   \n",
       "L:D63LM(R)   512.0    0.313258   0.275621   -0.299072    0.091553    0.196838   \n",
       "L:D64LM(R)   512.0    0.867021   0.058726    0.689697    0.830078    0.875854   \n",
       "L:D71LM(R)   512.0    0.136000   0.024551    0.070190    0.119019    0.137329   \n",
       "L:D72LM(R)   512.0    0.111061   0.023949    0.045776    0.094604    0.109863   \n",
       "L:D73LM(R)   512.0    0.032687   0.015611   -0.015259    0.021362    0.033569   \n",
       "L:D74LM(R)   512.0    0.223756   0.038564    0.119019    0.201416    0.234985   \n",
       "\n",
       "                    75%         max  \n",
       "L:RFQPAH(R)  176.000977  190.002441  \n",
       "L:TO1IN(R)    23.598482   24.134439  \n",
       "L:TO3IN(R)    21.229514   21.724914  \n",
       "L:TO4IN(R)    21.045612   21.550436  \n",
       "L:TO4OUT(R)    6.434631    7.925415  \n",
       "L:TO5OUT(R)   21.002299   21.443245  \n",
       "L:D0TOR(R)    15.876566   16.368627  \n",
       "L:D1TOR(R)    18.049810   18.677132  \n",
       "L:D2TOR(R)    22.729670   23.208901  \n",
       "L:D5TOR(R)    21.378373   21.886219  \n",
       "L:D7TOR(R)    20.721750   21.147773  \n",
       "L:D00LM(R)     0.456238    0.762939  \n",
       "L:D11LM(R)     0.317383    0.393677  \n",
       "L:D12LM(R)     0.051880    0.100708  \n",
       "L:D13LM(R)     0.106812    0.274658  \n",
       "L:D14LM(R)     0.674438    0.863647  \n",
       "L:D21LM(R)     0.598907    0.811768  \n",
       "L:D22LM(R)     0.109863    0.271606  \n",
       "L:D23LM(R)     0.112915    0.213623  \n",
       "L:D24LM(R)     0.732422    0.903320  \n",
       "L:D31LM(R)     1.068115    1.641846  \n",
       "L:D32LM(R)     0.131226    0.189209  \n",
       "L:D33LM(R)     1.388550    2.313232  \n",
       "L:D34LM(R)     0.811768    1.174927  \n",
       "L:D41LM(R)     0.015259    0.057983  \n",
       "L:D42LM(R)     0.100708    0.250244  \n",
       "L:D43LM(R)     0.266266    0.564575  \n",
       "L:D44LM(R)     0.021362    0.067139  \n",
       "L:D51LM(R)     0.067139    0.170898  \n",
       "L:D52LM(R)     0.018311    0.051880  \n",
       "L:D53LM(R)     0.289917    0.549316  \n",
       "L:D54LM(R)     1.145172    2.581787  \n",
       "L:D61LM(R)     0.033569    0.277710  \n",
       "L:D62LM(R)     0.012207    0.061035  \n",
       "L:D63LM(R)     0.537872    0.994873  \n",
       "L:D64LM(R)     0.910187    1.007080  \n",
       "L:D71LM(R)     0.152588    0.201416  \n",
       "L:D72LM(R)     0.128174    0.186157  \n",
       "L:D73LM(R)     0.042725    0.079346  \n",
       "L:D74LM(R)     0.253296    0.296021  "
      ]
     },
     "execution_count": 22,
     "metadata": {},
     "output_type": "execute_result"
    }
   ],
   "source": [
    "train_dataset.describe().transpose()"
   ]
  },
  {
   "cell_type": "markdown",
   "metadata": {
    "id": "Db7Auq1yXUvh"
   },
   "source": [
    "### Split features from labels\n",
    "\n",
    "Separate the target value, the \"label\", from the features. This label is the value that you will train the model to predict."
   ]
  },
  {
   "cell_type": "code",
   "execution_count": 23,
   "metadata": {
    "execution": {
     "iopub.execute_input": "2021-06-19T02:12:06.559830Z",
     "iopub.status.busy": "2021-06-19T02:12:06.559124Z",
     "iopub.status.idle": "2021-06-19T02:12:06.561956Z",
     "shell.execute_reply": "2021-06-19T02:12:06.561564Z"
    },
    "id": "t2sluJdCW7jN"
   },
   "outputs": [],
   "source": [
    "train_features = train_dataset.copy()\n",
    "test_features = test_dataset.copy()\n",
    "\n",
    "train_labels = train_features.pop('L:RFQPAH(R)')\n",
    "test_labels = test_features.pop('L:RFQPAH(R)')"
   ]
  },
  {
   "cell_type": "markdown",
   "metadata": {
    "id": "mRklxK5s388r"
   },
   "source": [
    "## Normalization\n",
    "\n",
    "In the table of statistics it's easy to see how different the ranges of each feature are."
   ]
  },
  {
   "cell_type": "code",
   "execution_count": 24,
   "metadata": {
    "execution": {
     "iopub.execute_input": "2021-06-19T02:12:06.570028Z",
     "iopub.status.busy": "2021-06-19T02:12:06.566873Z",
     "iopub.status.idle": "2021-06-19T02:12:06.589473Z",
     "shell.execute_reply": "2021-06-19T02:12:06.589805Z"
    },
    "id": "IcmY6lKKbkw8"
   },
   "outputs": [
    {
     "data": {
      "text/html": [
       "<div>\n",
       "<style scoped>\n",
       "    .dataframe tbody tr th:only-of-type {\n",
       "        vertical-align: middle;\n",
       "    }\n",
       "\n",
       "    .dataframe tbody tr th {\n",
       "        vertical-align: top;\n",
       "    }\n",
       "\n",
       "    .dataframe thead th {\n",
       "        text-align: right;\n",
       "    }\n",
       "</style>\n",
       "<table border=\"1\" class=\"dataframe\">\n",
       "  <thead>\n",
       "    <tr style=\"text-align: right;\">\n",
       "      <th></th>\n",
       "      <th>mean</th>\n",
       "      <th>std</th>\n",
       "    </tr>\n",
       "  </thead>\n",
       "  <tbody>\n",
       "    <tr>\n",
       "      <th>L:RFQPAH(R)</th>\n",
       "      <td>159.604454</td>\n",
       "      <td>18.421085</td>\n",
       "    </tr>\n",
       "    <tr>\n",
       "      <th>L:TO1IN(R)</th>\n",
       "      <td>23.404361</td>\n",
       "      <td>0.250555</td>\n",
       "    </tr>\n",
       "    <tr>\n",
       "      <th>L:TO3IN(R)</th>\n",
       "      <td>20.612455</td>\n",
       "      <td>0.767673</td>\n",
       "    </tr>\n",
       "    <tr>\n",
       "      <th>L:TO4IN(R)</th>\n",
       "      <td>20.434939</td>\n",
       "      <td>0.768845</td>\n",
       "    </tr>\n",
       "    <tr>\n",
       "      <th>L:TO4OUT(R)</th>\n",
       "      <td>5.840182</td>\n",
       "      <td>0.804889</td>\n",
       "    </tr>\n",
       "    <tr>\n",
       "      <th>L:TO5OUT(R)</th>\n",
       "      <td>20.369750</td>\n",
       "      <td>0.786539</td>\n",
       "    </tr>\n",
       "    <tr>\n",
       "      <th>L:D0TOR(R)</th>\n",
       "      <td>15.208133</td>\n",
       "      <td>0.819377</td>\n",
       "    </tr>\n",
       "    <tr>\n",
       "      <th>L:D1TOR(R)</th>\n",
       "      <td>17.376182</td>\n",
       "      <td>0.859195</td>\n",
       "    </tr>\n",
       "    <tr>\n",
       "      <th>L:D2TOR(R)</th>\n",
       "      <td>22.049536</td>\n",
       "      <td>0.838472</td>\n",
       "    </tr>\n",
       "    <tr>\n",
       "      <th>L:D5TOR(R)</th>\n",
       "      <td>20.692726</td>\n",
       "      <td>0.842707</td>\n",
       "    </tr>\n",
       "    <tr>\n",
       "      <th>L:D7TOR(R)</th>\n",
       "      <td>20.069425</td>\n",
       "      <td>0.801225</td>\n",
       "    </tr>\n",
       "    <tr>\n",
       "      <th>L:D00LM(R)</th>\n",
       "      <td>0.389987</td>\n",
       "      <td>0.118784</td>\n",
       "    </tr>\n",
       "    <tr>\n",
       "      <th>L:D11LM(R)</th>\n",
       "      <td>0.291920</td>\n",
       "      <td>0.035145</td>\n",
       "    </tr>\n",
       "    <tr>\n",
       "      <th>L:D12LM(R)</th>\n",
       "      <td>0.038761</td>\n",
       "      <td>0.018404</td>\n",
       "    </tr>\n",
       "    <tr>\n",
       "      <th>L:D13LM(R)</th>\n",
       "      <td>0.080603</td>\n",
       "      <td>0.065791</td>\n",
       "    </tr>\n",
       "    <tr>\n",
       "      <th>L:D14LM(R)</th>\n",
       "      <td>0.536048</td>\n",
       "      <td>0.158434</td>\n",
       "    </tr>\n",
       "    <tr>\n",
       "      <th>L:D21LM(R)</th>\n",
       "      <td>0.454193</td>\n",
       "      <td>0.162818</td>\n",
       "    </tr>\n",
       "    <tr>\n",
       "      <th>L:D22LM(R)</th>\n",
       "      <td>0.070655</td>\n",
       "      <td>0.067281</td>\n",
       "    </tr>\n",
       "    <tr>\n",
       "      <th>L:D23LM(R)</th>\n",
       "      <td>0.073719</td>\n",
       "      <td>0.056235</td>\n",
       "    </tr>\n",
       "    <tr>\n",
       "      <th>L:D24LM(R)</th>\n",
       "      <td>0.670367</td>\n",
       "      <td>0.100451</td>\n",
       "    </tr>\n",
       "    <tr>\n",
       "      <th>L:D31LM(R)</th>\n",
       "      <td>0.869513</td>\n",
       "      <td>0.289914</td>\n",
       "    </tr>\n",
       "    <tr>\n",
       "      <th>L:D32LM(R)</th>\n",
       "      <td>0.108224</td>\n",
       "      <td>0.032225</td>\n",
       "    </tr>\n",
       "    <tr>\n",
       "      <th>L:D33LM(R)</th>\n",
       "      <td>0.806379</td>\n",
       "      <td>0.612126</td>\n",
       "    </tr>\n",
       "    <tr>\n",
       "      <th>L:D34LM(R)</th>\n",
       "      <td>0.689501</td>\n",
       "      <td>0.165140</td>\n",
       "    </tr>\n",
       "    <tr>\n",
       "      <th>L:D41LM(R)</th>\n",
       "      <td>0.005472</td>\n",
       "      <td>0.016714</td>\n",
       "    </tr>\n",
       "    <tr>\n",
       "      <th>L:D42LM(R)</th>\n",
       "      <td>0.076264</td>\n",
       "      <td>0.054221</td>\n",
       "    </tr>\n",
       "    <tr>\n",
       "      <th>L:D43LM(R)</th>\n",
       "      <td>0.160593</td>\n",
       "      <td>0.142994</td>\n",
       "    </tr>\n",
       "    <tr>\n",
       "      <th>L:D44LM(R)</th>\n",
       "      <td>0.010014</td>\n",
       "      <td>0.016062</td>\n",
       "    </tr>\n",
       "    <tr>\n",
       "      <th>L:D51LM(R)</th>\n",
       "      <td>0.046134</td>\n",
       "      <td>0.046508</td>\n",
       "    </tr>\n",
       "    <tr>\n",
       "      <th>L:D52LM(R)</th>\n",
       "      <td>0.005585</td>\n",
       "      <td>0.016793</td>\n",
       "    </tr>\n",
       "    <tr>\n",
       "      <th>L:D53LM(R)</th>\n",
       "      <td>0.199670</td>\n",
       "      <td>0.115033</td>\n",
       "    </tr>\n",
       "    <tr>\n",
       "      <th>L:D54LM(R)</th>\n",
       "      <td>0.953048</td>\n",
       "      <td>0.486177</td>\n",
       "    </tr>\n",
       "    <tr>\n",
       "      <th>L:D61LM(R)</th>\n",
       "      <td>0.019211</td>\n",
       "      <td>0.049903</td>\n",
       "    </tr>\n",
       "    <tr>\n",
       "      <th>L:D62LM(R)</th>\n",
       "      <td>-0.003088</td>\n",
       "      <td>0.020501</td>\n",
       "    </tr>\n",
       "    <tr>\n",
       "      <th>L:D63LM(R)</th>\n",
       "      <td>0.313258</td>\n",
       "      <td>0.275621</td>\n",
       "    </tr>\n",
       "    <tr>\n",
       "      <th>L:D64LM(R)</th>\n",
       "      <td>0.867021</td>\n",
       "      <td>0.058726</td>\n",
       "    </tr>\n",
       "    <tr>\n",
       "      <th>L:D71LM(R)</th>\n",
       "      <td>0.136000</td>\n",
       "      <td>0.024551</td>\n",
       "    </tr>\n",
       "    <tr>\n",
       "      <th>L:D72LM(R)</th>\n",
       "      <td>0.111061</td>\n",
       "      <td>0.023949</td>\n",
       "    </tr>\n",
       "    <tr>\n",
       "      <th>L:D73LM(R)</th>\n",
       "      <td>0.032687</td>\n",
       "      <td>0.015611</td>\n",
       "    </tr>\n",
       "    <tr>\n",
       "      <th>L:D74LM(R)</th>\n",
       "      <td>0.223756</td>\n",
       "      <td>0.038564</td>\n",
       "    </tr>\n",
       "  </tbody>\n",
       "</table>\n",
       "</div>"
      ],
      "text/plain": [
       "                   mean        std\n",
       "L:RFQPAH(R)  159.604454  18.421085\n",
       "L:TO1IN(R)    23.404361   0.250555\n",
       "L:TO3IN(R)    20.612455   0.767673\n",
       "L:TO4IN(R)    20.434939   0.768845\n",
       "L:TO4OUT(R)    5.840182   0.804889\n",
       "L:TO5OUT(R)   20.369750   0.786539\n",
       "L:D0TOR(R)    15.208133   0.819377\n",
       "L:D1TOR(R)    17.376182   0.859195\n",
       "L:D2TOR(R)    22.049536   0.838472\n",
       "L:D5TOR(R)    20.692726   0.842707\n",
       "L:D7TOR(R)    20.069425   0.801225\n",
       "L:D00LM(R)     0.389987   0.118784\n",
       "L:D11LM(R)     0.291920   0.035145\n",
       "L:D12LM(R)     0.038761   0.018404\n",
       "L:D13LM(R)     0.080603   0.065791\n",
       "L:D14LM(R)     0.536048   0.158434\n",
       "L:D21LM(R)     0.454193   0.162818\n",
       "L:D22LM(R)     0.070655   0.067281\n",
       "L:D23LM(R)     0.073719   0.056235\n",
       "L:D24LM(R)     0.670367   0.100451\n",
       "L:D31LM(R)     0.869513   0.289914\n",
       "L:D32LM(R)     0.108224   0.032225\n",
       "L:D33LM(R)     0.806379   0.612126\n",
       "L:D34LM(R)     0.689501   0.165140\n",
       "L:D41LM(R)     0.005472   0.016714\n",
       "L:D42LM(R)     0.076264   0.054221\n",
       "L:D43LM(R)     0.160593   0.142994\n",
       "L:D44LM(R)     0.010014   0.016062\n",
       "L:D51LM(R)     0.046134   0.046508\n",
       "L:D52LM(R)     0.005585   0.016793\n",
       "L:D53LM(R)     0.199670   0.115033\n",
       "L:D54LM(R)     0.953048   0.486177\n",
       "L:D61LM(R)     0.019211   0.049903\n",
       "L:D62LM(R)    -0.003088   0.020501\n",
       "L:D63LM(R)     0.313258   0.275621\n",
       "L:D64LM(R)     0.867021   0.058726\n",
       "L:D71LM(R)     0.136000   0.024551\n",
       "L:D72LM(R)     0.111061   0.023949\n",
       "L:D73LM(R)     0.032687   0.015611\n",
       "L:D74LM(R)     0.223756   0.038564"
      ]
     },
     "execution_count": 24,
     "metadata": {},
     "output_type": "execute_result"
    }
   ],
   "source": [
    "train_dataset.describe().transpose()[['mean', 'std']]"
   ]
  },
  {
   "cell_type": "markdown",
   "metadata": {
    "id": "-ywmerQ6dSox"
   },
   "source": [
    "It is good practice to normalize features that use different scales and ranges. \n",
    "\n",
    "One reason this is important is because the features are multiplied by the model weights. So the scale of the outputs and the scale of the gradients are affected by the scale of the inputs. \n",
    "\n",
    "Although a model *might* converge without feature normalization, normalization makes training much more stable.\n",
    "\n",
    "Note: There is no advantage to normalizing the one-hot features, it is done here for simplicity. For more details on how to use the preprocessing layers, refer the [Working with preprocessing layers](https://www.tensorflow.org/guide/keras/preprocessing_layers) guide and the [Classify structured data using Keras preprocessing layers](https://www.tensorflow.org/tutorials/structured_data/preprocessing_layers) tutorial."
   ]
  },
  {
   "cell_type": "markdown",
   "metadata": {
    "id": "aFJ6ISropeoo"
   },
   "source": [
    "### The Normalization layer\n",
    "The `preprocessing.Normalization` layer is a clean and simple way to build that preprocessing into your model.\n",
    "\n",
    "The first step is to create the layer:"
   ]
  },
  {
   "cell_type": "code",
   "execution_count": 25,
   "metadata": {
    "execution": {
     "iopub.execute_input": "2021-06-19T02:12:06.593382Z",
     "iopub.status.busy": "2021-06-19T02:12:06.592850Z",
     "iopub.status.idle": "2021-06-19T02:12:06.598082Z",
     "shell.execute_reply": "2021-06-19T02:12:06.597607Z"
    },
    "id": "JlC5ooJrgjQF"
   },
   "outputs": [],
   "source": [
    "normalizer = preprocessing.Normalization(axis=-1)"
   ]
  },
  {
   "cell_type": "markdown",
   "metadata": {
    "id": "XYA2Ap6nVOha"
   },
   "source": [
    "Then `.adapt()` it to the data:"
   ]
  },
  {
   "cell_type": "code",
   "execution_count": 26,
   "metadata": {
    "execution": {
     "iopub.execute_input": "2021-06-19T02:12:07.860779Z",
     "iopub.status.busy": "2021-06-19T02:12:07.860095Z",
     "iopub.status.idle": "2021-06-19T02:12:08.304992Z",
     "shell.execute_reply": "2021-06-19T02:12:08.305422Z"
    },
    "id": "CrBbbjbwV91f"
   },
   "outputs": [
    {
     "name": "stdout",
     "output_type": "stream",
     "text": [
      "Metal device set to: Apple M1\n"
     ]
    },
    {
     "name": "stderr",
     "output_type": "stream",
     "text": [
      "2021-12-21 17:55:25.767224: I tensorflow/core/common_runtime/pluggable_device/pluggable_device_factory.cc:305] Could not identify NUMA node of platform GPU ID 0, defaulting to 0. Your kernel may not have been built with NUMA support.\n",
      "2021-12-21 17:55:25.767509: I tensorflow/core/common_runtime/pluggable_device/pluggable_device_factory.cc:271] Created TensorFlow device (/job:localhost/replica:0/task:0/device:GPU:0 with 0 MB memory) -> physical PluggableDevice (device: 0, name: METAL, pci bus id: <undefined>)\n",
      "2021-12-21 17:55:25.805771: I tensorflow/compiler/mlir/mlir_graph_optimization_pass.cc:176] None of the MLIR Optimization Passes are enabled (registered 2)\n",
      "2021-12-21 17:55:25.806144: W tensorflow/core/platform/profile_utils/cpu_utils.cc:128] Failed to get CPU frequency: 0 Hz\n",
      "2021-12-21 17:55:25.866155: I tensorflow/core/grappler/optimizers/custom_graph_optimizer_registry.cc:112] Plugin optimizer for device_type GPU is enabled.\n",
      "2021-12-21 17:55:25.877218: I tensorflow/core/grappler/optimizers/custom_graph_optimizer_registry.cc:112] Plugin optimizer for device_type GPU is enabled.\n"
     ]
    }
   ],
   "source": [
    "normalizer.adapt(np.array(train_features))"
   ]
  },
  {
   "cell_type": "markdown",
   "metadata": {
    "id": "oZccMR5yV9YV"
   },
   "source": [
    "This calculates the mean and variance, and stores them in the layer. "
   ]
  },
  {
   "cell_type": "code",
   "execution_count": 27,
   "metadata": {
    "execution": {
     "iopub.execute_input": "2021-06-19T02:12:08.309201Z",
     "iopub.status.busy": "2021-06-19T02:12:08.308641Z",
     "iopub.status.idle": "2021-06-19T02:12:08.311492Z",
     "shell.execute_reply": "2021-06-19T02:12:08.311841Z"
    },
    "id": "GGn-ukwxSPtx"
   },
   "outputs": [
    {
     "name": "stdout",
     "output_type": "stream",
     "text": [
      "[23.404 20.612 20.435  5.84  20.37  15.208 17.376 22.05  20.693 20.069\n",
      "  0.39   0.292  0.039  0.081  0.536  0.454  0.071  0.074  0.67   0.87\n",
      "  0.108  0.806  0.69   0.005  0.076  0.161  0.01   0.046  0.006  0.2\n",
      "  0.953  0.019 -0.003  0.313  0.867  0.136  0.111  0.033  0.224]\n"
     ]
    }
   ],
   "source": [
    "print(normalizer.mean.numpy())"
   ]
  },
  {
   "cell_type": "markdown",
   "metadata": {
    "id": "oGWKaF9GSRuN"
   },
   "source": [
    "When the layer is called it returns the input data, with each feature independently normalized:"
   ]
  },
  {
   "cell_type": "code",
   "execution_count": 28,
   "metadata": {
    "execution": {
     "iopub.execute_input": "2021-06-19T02:12:08.316506Z",
     "iopub.status.busy": "2021-06-19T02:12:08.315968Z",
     "iopub.status.idle": "2021-06-19T02:12:08.320968Z",
     "shell.execute_reply": "2021-06-19T02:12:08.321297Z"
    },
    "id": "2l7zFL_XWIRu"
   },
   "outputs": [
    {
     "name": "stdout",
     "output_type": "stream",
     "text": [
      "First example: [[23.37 20.89 20.61  6.12 20.6  15.39 17.79 22.17 20.9  20.61  0.63  0.33\n",
      "   0.02  0.06  0.27  0.24  0.05  0.14  0.7   0.78  0.12  0.21  0.69  0.02\n",
      "   0.07  0.03 -0.03  0.04  0.03  0.07  1.07  0.04  0.02  0.07  0.92  0.17\n",
      "   0.1   0.05  0.25]]\n",
      "\n",
      "Normalized: [[-0.15  0.36  0.22  0.35  0.3   0.22  0.48  0.15  0.24  0.68  1.99  0.99\n",
      "  -0.78 -0.25 -1.69 -1.31 -0.28  1.19  0.31 -0.32  0.24 -0.98 -0.02  0.59\n",
      "  -0.06 -0.89 -2.53 -0.14  1.67 -1.13  0.24  0.47  1.34 -0.89  0.98  1.42\n",
      "  -0.31  1.43  0.61]]\n"
     ]
    }
   ],
   "source": [
    "first = np.array(train_features[:1])\n",
    "\n",
    "with np.printoptions(precision=2, suppress=True):\n",
    "  print('First example:', first)\n",
    "  print()\n",
    "  print('Normalized:', normalizer(first).numpy())"
   ]
  },
  {
   "cell_type": "markdown",
   "metadata": {
    "id": "6o3CrycBXA2s"
   },
   "source": [
    "## Linear regression\n",
    "\n",
    "Before building a DNN model, start with a linear regression."
   ]
  },
  {
   "cell_type": "markdown",
   "metadata": {
    "id": "lFby9n0tnHkw"
   },
   "source": [
    "### One Variable\n",
    "\n",
    "Start with a single-variable linear regression, to predict `L:RFQPAH` from `L:TO1IN`.\n",
    "\n",
    "Training a model with `tf.keras` typically starts by defining the model architecture.\n",
    "\n",
    "In this case use a `keras.Sequential` model. This model represents a sequence of steps. In this case there are two steps:\n",
    "\n",
    "* Normalize the input `L:TO1IN`.\n",
    "* Apply a linear transformation ($y = mx+b$) to produce 1 output using `layers.Dense`.\n",
    "\n",
    "The number of _inputs_ can either be set by the `input_shape` argument, or automatically when the model is run for the first time."
   ]
  },
  {
   "cell_type": "markdown",
   "metadata": {
    "id": "Xp3gAFn3TPv8"
   },
   "source": [
    "First create the horsepower `Normalization` layer:"
   ]
  },
  {
   "cell_type": "code",
   "execution_count": 29,
   "metadata": {
    "execution": {
     "iopub.execute_input": "2021-06-19T02:12:08.325972Z",
     "iopub.status.busy": "2021-06-19T02:12:08.325438Z",
     "iopub.status.idle": "2021-06-19T02:12:08.454735Z",
     "shell.execute_reply": "2021-06-19T02:12:08.455237Z"
    },
    "id": "1gJAy0fKs1TS"
   },
   "outputs": [
    {
     "name": "stderr",
     "output_type": "stream",
     "text": [
      "2021-12-21 17:57:42.773856: I tensorflow/core/grappler/optimizers/custom_graph_optimizer_registry.cc:112] Plugin optimizer for device_type GPU is enabled.\n",
      "2021-12-21 17:57:42.787571: I tensorflow/core/grappler/optimizers/custom_graph_optimizer_registry.cc:112] Plugin optimizer for device_type GPU is enabled.\n"
     ]
    }
   ],
   "source": [
    "to1in = np.array(train_features['L:TO1IN(R)'])\n",
    "\n",
    "to1in_normalizer = preprocessing.Normalization(input_shape=[1,], axis=None)\n",
    "to1in_normalizer.adapt(to1in)"
   ]
  },
  {
   "cell_type": "markdown",
   "metadata": {
    "id": "4NVlHJY2TWlC"
   },
   "source": [
    "Build the sequential model:"
   ]
  },
  {
   "cell_type": "code",
   "execution_count": 30,
   "metadata": {
    "execution": {
     "iopub.execute_input": "2021-06-19T02:12:08.462753Z",
     "iopub.status.busy": "2021-06-19T02:12:08.462180Z",
     "iopub.status.idle": "2021-06-19T02:12:08.480630Z",
     "shell.execute_reply": "2021-06-19T02:12:08.480968Z"
    },
    "id": "c0sXM7qLlKfZ"
   },
   "outputs": [
    {
     "name": "stdout",
     "output_type": "stream",
     "text": [
      "Model: \"sequential\"\n",
      "_________________________________________________________________\n",
      "Layer (type)                 Output Shape              Param #   \n",
      "=================================================================\n",
      "normalization_1 (Normalizati (None, 1)                 3         \n",
      "_________________________________________________________________\n",
      "dense (Dense)                (None, 1)                 2         \n",
      "=================================================================\n",
      "Total params: 5\n",
      "Trainable params: 2\n",
      "Non-trainable params: 3\n",
      "_________________________________________________________________\n"
     ]
    }
   ],
   "source": [
    "to1in_model = tf.keras.Sequential([\n",
    "    to1in_normalizer,\n",
    "    layers.Dense(units=1)\n",
    "])\n",
    "\n",
    "to1in_model.summary()"
   ]
  },
  {
   "cell_type": "markdown",
   "metadata": {
    "id": "eObQu9fDnXGL"
   },
   "source": [
    "Run the untrained model on the first 10 L:TO1IN values. The output won't be good, but you'll see that it has the expected shape, `(10,1)`:"
   ]
  },
  {
   "cell_type": "code",
   "execution_count": 31,
   "metadata": {
    "execution": {
     "iopub.execute_input": "2021-06-19T02:12:08.484860Z",
     "iopub.status.busy": "2021-06-19T02:12:08.484308Z",
     "iopub.status.idle": "2021-06-19T02:12:08.958485Z",
     "shell.execute_reply": "2021-06-19T02:12:08.958883Z"
    },
    "id": "UfV1HS6bns-s"
   },
   "outputs": [
    {
     "name": "stderr",
     "output_type": "stream",
     "text": [
      "2021-12-21 17:58:10.477154: I tensorflow/core/grappler/optimizers/custom_graph_optimizer_registry.cc:112] Plugin optimizer for device_type GPU is enabled.\n"
     ]
    },
    {
     "data": {
      "text/plain": [
       "array([[ 0.11 ],\n",
       "       [-0.127],\n",
       "       [ 1.248],\n",
       "       [ 0.756],\n",
       "       [-0.664],\n",
       "       [ 0.346],\n",
       "       [ 0.62 ],\n",
       "       [-0.227],\n",
       "       [-0.564],\n",
       "       [-0.063]], dtype=float32)"
      ]
     },
     "execution_count": 31,
     "metadata": {},
     "output_type": "execute_result"
    }
   ],
   "source": [
    "to1in_model.predict(to1in[:10])"
   ]
  },
  {
   "cell_type": "markdown",
   "metadata": {
    "id": "CSkanJlmmFBX"
   },
   "source": [
    "Once the model is built, configure the training procedure using the `Model.compile()` method. The most important arguments to compile are the `loss` and the `optimizer` since these define what will be optimized (`mean_absolute_error`) and how (using the `optimizers.Adam`)."
   ]
  },
  {
   "cell_type": "code",
   "execution_count": 32,
   "metadata": {
    "execution": {
     "iopub.execute_input": "2021-06-19T02:12:09.073824Z",
     "iopub.status.busy": "2021-06-19T02:12:09.073207Z",
     "iopub.status.idle": "2021-06-19T02:12:09.090246Z",
     "shell.execute_reply": "2021-06-19T02:12:09.090585Z"
    },
    "id": "JxA_3lpOm-SK"
   },
   "outputs": [],
   "source": [
    "to1in_model.compile(\n",
    "    optimizer=tf.optimizers.Adam(learning_rate=0.1),\n",
    "    loss='mean_absolute_error')"
   ]
  },
  {
   "cell_type": "markdown",
   "metadata": {
    "id": "Z3q1I9TwnRSC"
   },
   "source": [
    "Once the training is configured, use `Model.fit()` to execute the training:"
   ]
  },
  {
   "cell_type": "code",
   "execution_count": 37,
   "metadata": {
    "execution": {
     "iopub.execute_input": "2021-06-19T02:12:09.095656Z",
     "iopub.status.busy": "2021-06-19T02:12:09.095122Z",
     "iopub.status.idle": "2021-06-19T02:12:11.760962Z",
     "shell.execute_reply": "2021-06-19T02:12:11.760518Z"
    },
    "id": "-iSrNy59nRAp"
   },
   "outputs": [
    {
     "name": "stdout",
     "output_type": "stream",
     "text": [
      "CPU times: user 44.4 s, sys: 30.6 s, total: 1min 15s\n",
      "Wall time: 45.7 s\n"
     ]
    }
   ],
   "source": [
    "%%time\n",
    "history = to1in_model.fit(\n",
    "    train_features['L:TO1IN(R)'], train_labels,\n",
    "    epochs=1000,\n",
    "    # suppress logging\n",
    "    verbose=0,\n",
    "    # Calculate validation results on 20% of the training data\n",
    "    validation_split = 0.2)"
   ]
  },
  {
   "cell_type": "markdown",
   "metadata": {
    "id": "tQm3pc0FYPQB"
   },
   "source": [
    "Visualize the model's training progress using the stats stored in the `history` object."
   ]
  },
  {
   "cell_type": "code",
   "execution_count": 38,
   "metadata": {
    "execution": {
     "iopub.execute_input": "2021-06-19T02:12:11.770125Z",
     "iopub.status.busy": "2021-06-19T02:12:11.769577Z",
     "iopub.status.idle": "2021-06-19T02:12:11.772272Z",
     "shell.execute_reply": "2021-06-19T02:12:11.771861Z"
    },
    "id": "YCAwD_y4AdC3"
   },
   "outputs": [
    {
     "data": {
      "text/html": [
       "<div>\n",
       "<style scoped>\n",
       "    .dataframe tbody tr th:only-of-type {\n",
       "        vertical-align: middle;\n",
       "    }\n",
       "\n",
       "    .dataframe tbody tr th {\n",
       "        vertical-align: top;\n",
       "    }\n",
       "\n",
       "    .dataframe thead th {\n",
       "        text-align: right;\n",
       "    }\n",
       "</style>\n",
       "<table border=\"1\" class=\"dataframe\">\n",
       "  <thead>\n",
       "    <tr style=\"text-align: right;\">\n",
       "      <th></th>\n",
       "      <th>loss</th>\n",
       "      <th>val_loss</th>\n",
       "      <th>epoch</th>\n",
       "    </tr>\n",
       "  </thead>\n",
       "  <tbody>\n",
       "    <tr>\n",
       "      <th>0</th>\n",
       "      <td>29.059307</td>\n",
       "      <td>28.191315</td>\n",
       "      <td>0</td>\n",
       "    </tr>\n",
       "    <tr>\n",
       "      <th>1</th>\n",
       "      <td>27.782059</td>\n",
       "      <td>26.944933</td>\n",
       "      <td>1</td>\n",
       "    </tr>\n",
       "    <tr>\n",
       "      <th>2</th>\n",
       "      <td>26.531946</td>\n",
       "      <td>25.701797</td>\n",
       "      <td>2</td>\n",
       "    </tr>\n",
       "    <tr>\n",
       "      <th>3</th>\n",
       "      <td>25.281986</td>\n",
       "      <td>24.465508</td>\n",
       "      <td>3</td>\n",
       "    </tr>\n",
       "    <tr>\n",
       "      <th>4</th>\n",
       "      <td>24.073771</td>\n",
       "      <td>23.231716</td>\n",
       "      <td>4</td>\n",
       "    </tr>\n",
       "  </tbody>\n",
       "</table>\n",
       "</div>"
      ],
      "text/plain": [
       "        loss   val_loss  epoch\n",
       "0  29.059307  28.191315      0\n",
       "1  27.782059  26.944933      1\n",
       "2  26.531946  25.701797      2\n",
       "3  25.281986  24.465508      3\n",
       "4  24.073771  23.231716      4"
      ]
     },
     "execution_count": 38,
     "metadata": {},
     "output_type": "execute_result"
    }
   ],
   "source": [
    "hist = pd.DataFrame(history.history)\n",
    "hist['epoch'] = history.epoch\n",
    "hist.tail()\n",
    "hist.head()"
   ]
  },
  {
   "cell_type": "code",
   "execution_count": 41,
   "metadata": {
    "execution": {
     "iopub.execute_input": "2021-06-19T02:12:11.776300Z",
     "iopub.status.busy": "2021-06-19T02:12:11.775754Z",
     "iopub.status.idle": "2021-06-19T02:12:11.778064Z",
     "shell.execute_reply": "2021-06-19T02:12:11.777568Z"
    },
    "id": "9E54UoZunqhc"
   },
   "outputs": [],
   "source": [
    "def plot_loss(history):\n",
    "  plt.plot(history.history['loss'], label='loss')\n",
    "  plt.plot(history.history['val_loss'], label='val_loss')\n",
    "  plt.ylim([0, 40])\n",
    "  plt.xlabel('Epoch')\n",
    "  plt.ylabel('Error [L:RFQPAH]')\n",
    "  plt.legend()\n",
    "  plt.grid(True)"
   ]
  },
  {
   "cell_type": "code",
   "execution_count": 42,
   "metadata": {
    "execution": {
     "iopub.execute_input": "2021-06-19T02:12:11.814003Z",
     "iopub.status.busy": "2021-06-19T02:12:11.813441Z",
     "iopub.status.idle": "2021-06-19T02:12:11.893433Z",
     "shell.execute_reply": "2021-06-19T02:12:11.893029Z"
    },
    "id": "yYsQYrIZyqjz"
   },
   "outputs": [
    {
     "data": {
      "image/png": "[encoded data removed]",
      "text/plain": [
       "<Figure size 432x288 with 1 Axes>"
      ]
     },
     "metadata": {
      "needs_background": "light"
     },
     "output_type": "display_data"
    }
   ],
   "source": [
    "plot_loss(history)"
   ]
  },
  {
   "cell_type": "markdown",
   "metadata": {
    "id": "CMNrt8X2ebXd"
   },
   "source": [
    "Collect the results on the test set, for later:"
   ]
  },
  {
   "cell_type": "code",
   "execution_count": 43,
   "metadata": {
    "execution": {
     "iopub.execute_input": "2021-06-19T02:12:11.897676Z",
     "iopub.status.busy": "2021-06-19T02:12:11.897042Z",
     "iopub.status.idle": "2021-06-19T02:12:11.937760Z",
     "shell.execute_reply": "2021-06-19T02:12:11.937261Z"
    },
    "id": "kDZ8EvNYrDtx"
   },
   "outputs": [
    {
     "name": "stderr",
     "output_type": "stream",
     "text": [
      "2021-12-21 18:00:43.554852: I tensorflow/core/grappler/optimizers/custom_graph_optimizer_registry.cc:112] Plugin optimizer for device_type GPU is enabled.\n"
     ]
    }
   ],
   "source": [
    "test_results = {}\n",
    "\n",
    "test_results['to1in_model'] = to1in_model.evaluate(\n",
    "    test_features['L:TO1IN(R)'],\n",
    "    test_labels, verbose=0)"
   ]
  },
  {
   "cell_type": "markdown",
   "metadata": {
    "id": "F0qutYAKwoda"
   },
   "source": [
    "Since this is a single variable regression it's easy to look at the model's predictions as a function of the input:"
   ]
  },
  {
   "cell_type": "code",
   "execution_count": 44,
   "metadata": {
    "execution": {
     "iopub.execute_input": "2021-06-19T02:12:11.941334Z",
     "iopub.status.busy": "2021-06-19T02:12:11.940799Z",
     "iopub.status.idle": "2021-06-19T02:12:12.001498Z",
     "shell.execute_reply": "2021-06-19T02:12:12.001836Z"
    },
    "id": "xDS2JEtOn9Jn"
   },
   "outputs": [
    {
     "name": "stderr",
     "output_type": "stream",
     "text": [
      "2021-12-21 18:00:46.325065: I tensorflow/core/grappler/optimizers/custom_graph_optimizer_registry.cc:112] Plugin optimizer for device_type GPU is enabled.\n"
     ]
    }
   ],
   "source": [
    "x = tf.linspace(20.0, 30, 11)\n",
    "y = to1in_model.predict(x)"
   ]
  },
  {
   "cell_type": "code",
   "execution_count": 45,
   "metadata": {
    "execution": {
     "iopub.execute_input": "2021-06-19T02:12:12.005768Z",
     "iopub.status.busy": "2021-06-19T02:12:12.005218Z",
     "iopub.status.idle": "2021-06-19T02:12:12.006867Z",
     "shell.execute_reply": "2021-06-19T02:12:12.007297Z"
    },
    "id": "rttFCTU8czsI"
   },
   "outputs": [],
   "source": [
    "def plot_to1in(x, y):\n",
    "  plt.scatter(train_features['L:TO1IN(R)'], train_labels, label='Data')\n",
    "  plt.plot(x, y, color='k', label='Predictions')\n",
    "  plt.xlabel('L:TO1IN')\n",
    "  plt.ylabel('L:RFQPAH')\n",
    "  plt.legend()"
   ]
  },
  {
   "cell_type": "code",
   "execution_count": 46,
   "metadata": {
    "execution": {
     "iopub.execute_input": "2021-06-19T02:12:12.028005Z",
     "iopub.status.busy": "2021-06-19T02:12:12.027348Z",
     "iopub.status.idle": "2021-06-19T02:12:12.136773Z",
     "shell.execute_reply": "2021-06-19T02:12:12.137157Z"
    },
    "id": "7l9ZiAOEUNBL"
   },
   "outputs": [
    {
     "data": {
      "image/png": "[encoded data removed]",
      "text/plain": [
       "<Figure size 432x288 with 1 Axes>"
      ]
     },
     "metadata": {
      "needs_background": "light"
     },
     "output_type": "display_data"
    }
   ],
   "source": [
    "plot_to1in(x,y)"
   ]
  },
  {
   "cell_type": "markdown",
   "metadata": {
    "id": "Yk2RmlqPoM9u"
   },
   "source": [
    "### Multiple inputs"
   ]
  },
  {
   "cell_type": "markdown",
   "metadata": {
    "id": "PribnwDHUksC"
   },
   "source": [
    "You can use an almost identical setup to make predictions based on multiple inputs. This model still does the same $y = mx+b$ except that $m$ is a matrix and $b$ is a vector.\n",
    "\n",
    "This time use the `Normalization` layer that was adapted to the whole dataset."
   ]
  },
  {
   "cell_type": "code",
   "execution_count": 47,
   "metadata": {
    "execution": {
     "iopub.execute_input": "2021-06-19T02:12:12.142743Z",
     "iopub.status.busy": "2021-06-19T02:12:12.142198Z",
     "iopub.status.idle": "2021-06-19T02:12:12.156359Z",
     "shell.execute_reply": "2021-06-19T02:12:12.156706Z"
    },
    "id": "ssnVcKg7oMe6"
   },
   "outputs": [],
   "source": [
    "linear_model = tf.keras.Sequential([\n",
    "    normalizer,\n",
    "    layers.Dense(units=1)\n",
    "])"
   ]
  },
  {
   "cell_type": "markdown",
   "metadata": {
    "id": "IHlx6WeIWyAr"
   },
   "source": [
    "When you call this model on a batch of inputs, it produces `units=1` outputs for each example."
   ]
  },
  {
   "cell_type": "code",
   "execution_count": 48,
   "metadata": {
    "execution": {
     "iopub.execute_input": "2021-06-19T02:12:12.160854Z",
     "iopub.status.busy": "2021-06-19T02:12:12.160270Z",
     "iopub.status.idle": "2021-06-19T02:12:12.219811Z",
     "shell.execute_reply": "2021-06-19T02:12:12.219404Z"
    },
    "id": "DynfJV18WiuT"
   },
   "outputs": [
    {
     "name": "stderr",
     "output_type": "stream",
     "text": [
      "2021-12-21 18:01:22.799848: I tensorflow/core/grappler/optimizers/custom_graph_optimizer_registry.cc:112] Plugin optimizer for device_type GPU is enabled.\n"
     ]
    },
    {
     "data": {
      "text/plain": [
       "array([[-1.612],\n",
       "       [-0.991],\n",
       "       [-0.599],\n",
       "       [-2.071],\n",
       "       [ 1.743],\n",
       "       [ 2.066],\n",
       "       [-0.449],\n",
       "       [-2.404],\n",
       "       [-1.436],\n",
       "       [ 4.451]], dtype=float32)"
      ]
     },
     "execution_count": 48,
     "metadata": {},
     "output_type": "execute_result"
    }
   ],
   "source": [
    "linear_model.predict(train_features[:10])"
   ]
  },
  {
   "cell_type": "markdown",
   "metadata": {
    "id": "hvHKH3rPXHmq"
   },
   "source": [
    "When you call the model it's weight matrices will be built. Now you can see that the `kernel` (the $m$ in $y=mx+b$) has a shape of `(9,1)`."
   ]
  },
  {
   "cell_type": "code",
   "execution_count": 49,
   "metadata": {
    "execution": {
     "iopub.execute_input": "2021-06-19T02:12:12.223481Z",
     "iopub.status.busy": "2021-06-19T02:12:12.222897Z",
     "iopub.status.idle": "2021-06-19T02:12:12.225888Z",
     "shell.execute_reply": "2021-06-19T02:12:12.226213Z"
    },
    "id": "DwJ4Fq0RXBQf"
   },
   "outputs": [
    {
     "data": {
      "text/plain": [
       "<tf.Variable 'dense_1/kernel:0' shape=(39, 1) dtype=float32, numpy=\n",
       "array([[-0.163],\n",
       "       [-0.374],\n",
       "       [ 0.132],\n",
       "       [ 0.258],\n",
       "       [-0.167],\n",
       "       [ 0.059],\n",
       "       [-0.304],\n",
       "       [ 0.37 ],\n",
       "       [-0.114],\n",
       "       [-0.175],\n",
       "       [ 0.116],\n",
       "       [-0.028],\n",
       "       [-0.089],\n",
       "       [ 0.185],\n",
       "       [ 0.018],\n",
       "       [ 0.163],\n",
       "       [-0.1  ],\n",
       "       [-0.019],\n",
       "       [-0.164],\n",
       "       [-0.384],\n",
       "       [-0.254],\n",
       "       [ 0.27 ],\n",
       "       [-0.311],\n",
       "       [-0.296],\n",
       "       [ 0.068],\n",
       "       [ 0.339],\n",
       "       [-0.135],\n",
       "       [-0.311],\n",
       "       [ 0.172],\n",
       "       [ 0.206],\n",
       "       [ 0.167],\n",
       "       [ 0.038],\n",
       "       [-0.192],\n",
       "       [ 0.317],\n",
       "       [-0.094],\n",
       "       [-0.34 ],\n",
       "       [-0.167],\n",
       "       [-0.019],\n",
       "       [-0.023]], dtype=float32)>"
      ]
     },
     "execution_count": 49,
     "metadata": {},
     "output_type": "execute_result"
    }
   ],
   "source": [
    "linear_model.layers[1].kernel"
   ]
  },
  {
   "cell_type": "markdown",
   "metadata": {
    "id": "eINAc6rZXzOt"
   },
   "source": [
    "Use the same `compile` and `fit` calls as for the single input `horsepower` model:"
   ]
  },
  {
   "cell_type": "code",
   "execution_count": 50,
   "metadata": {
    "execution": {
     "iopub.execute_input": "2021-06-19T02:12:12.231529Z",
     "iopub.status.busy": "2021-06-19T02:12:12.230916Z",
     "iopub.status.idle": "2021-06-19T02:12:12.234498Z",
     "shell.execute_reply": "2021-06-19T02:12:12.234090Z"
    },
    "id": "A0Sv_Ybr0szp"
   },
   "outputs": [],
   "source": [
    "linear_model.compile(\n",
    "    optimizer=tf.optimizers.Adam(learning_rate=0.1),\n",
    "    loss='mean_absolute_error')"
   ]
  },
  {
   "cell_type": "code",
   "execution_count": 51,
   "metadata": {
    "execution": {
     "iopub.execute_input": "2021-06-19T02:12:12.238573Z",
     "iopub.status.busy": "2021-06-19T02:12:12.237962Z",
     "iopub.status.idle": "2021-06-19T02:12:14.864339Z",
     "shell.execute_reply": "2021-06-19T02:12:14.864724Z"
    },
    "id": "EZoOYORvoTSe"
   },
   "outputs": [
    {
     "name": "stderr",
     "output_type": "stream",
     "text": [
      "2021-12-21 18:01:55.915535: I tensorflow/core/grappler/optimizers/custom_graph_optimizer_registry.cc:112] Plugin optimizer for device_type GPU is enabled.\n",
      "2021-12-21 18:01:56.011092: I tensorflow/core/grappler/optimizers/custom_graph_optimizer_registry.cc:112] Plugin optimizer for device_type GPU is enabled.\n"
     ]
    },
    {
     "name": "stdout",
     "output_type": "stream",
     "text": [
      "CPU times: user 13.4 s, sys: 8.73 s, total: 22.1 s\n",
      "Wall time: 13.9 s\n"
     ]
    }
   ],
   "source": [
    "%%time\n",
    "history = linear_model.fit(\n",
    "    train_features, train_labels, \n",
    "    epochs=300,\n",
    "    # suppress logging\n",
    "    verbose=0,\n",
    "    # Calculate validation results on 20% of the training data\n",
    "    validation_split = 0.2)"
   ]
  },
  {
   "cell_type": "markdown",
   "metadata": {
    "id": "EdxiCbiNYK2F"
   },
   "source": [
    "Using all the inputs achieves a much lower training and validation error than the `horsepower` model: "
   ]
  },
  {
   "cell_type": "code",
   "execution_count": 52,
   "metadata": {
    "execution": {
     "iopub.execute_input": "2021-06-19T02:12:14.882514Z",
     "iopub.status.busy": "2021-06-19T02:12:14.881466Z",
     "iopub.status.idle": "2021-06-19T02:12:14.986161Z",
     "shell.execute_reply": "2021-06-19T02:12:14.986491Z"
    },
    "id": "4sWO3W0koYgu"
   },
   "outputs": [
    {
     "data": {
      "image/png": "[encoded data removed]",
      "text/plain": [
       "<Figure size 432x288 with 1 Axes>"
      ]
     },
     "metadata": {
      "needs_background": "light"
     },
     "output_type": "display_data"
    }
   ],
   "source": [
    "plot_loss(history)"
   ]
  },
  {
   "cell_type": "markdown",
   "metadata": {
    "id": "NyN49hIWe_NH"
   },
   "source": [
    "Collect the results on the test set, for later:"
   ]
  },
  {
   "cell_type": "code",
   "execution_count": 53,
   "metadata": {
    "execution": {
     "iopub.execute_input": "2021-06-19T02:12:14.990509Z",
     "iopub.status.busy": "2021-06-19T02:12:14.989959Z",
     "iopub.status.idle": "2021-06-19T02:12:15.033455Z",
     "shell.execute_reply": "2021-06-19T02:12:15.033792Z"
    },
    "id": "jNC3D1DGsGgK"
   },
   "outputs": [
    {
     "name": "stderr",
     "output_type": "stream",
     "text": [
      "2021-12-21 18:02:59.962748: I tensorflow/core/grappler/optimizers/custom_graph_optimizer_registry.cc:112] Plugin optimizer for device_type GPU is enabled.\n"
     ]
    }
   ],
   "source": [
    "test_results['linear_model'] = linear_model.evaluate(\n",
    "    test_features, test_labels, verbose=0)"
   ]
  },
  {
   "cell_type": "markdown",
   "metadata": {
    "id": "SmjdzxKzEu1-"
   },
   "source": [
    "## A DNN regression"
   ]
  },
  {
   "cell_type": "markdown",
   "metadata": {
    "id": "DT_aHPsrzO1t"
   },
   "source": [
    "The previous section implemented linear models for single and multiple inputs.\n",
    "\n",
    "This section implements single-input and multiple-input DNN models. The code is basically the same except the model is expanded to include some \"hidden\"  non-linear layers. The name \"hidden\" here just means not directly connected to the inputs or outputs."
   ]
  },
  {
   "cell_type": "markdown",
   "metadata": {
    "id": "6SWtkIjhrZwa"
   },
   "source": [
    "These models will contain a few more layers than the linear model:\n",
    "\n",
    "* The normalization layer.\n",
    "* Two hidden, nonlinear, `Dense` layers using the `relu` nonlinearity.\n",
    "* A linear single-output layer.\n",
    "\n",
    "Both will use the same training procedure so the `compile` method is included in the `build_and_compile_model` function below."
   ]
  },
  {
   "cell_type": "code",
   "execution_count": 74,
   "metadata": {
    "execution": {
     "iopub.execute_input": "2021-06-19T02:12:15.038509Z",
     "iopub.status.busy": "2021-06-19T02:12:15.037821Z",
     "iopub.status.idle": "2021-06-19T02:12:15.040285Z",
     "shell.execute_reply": "2021-06-19T02:12:15.039872Z"
    },
    "id": "c26juK7ZG8j-"
   },
   "outputs": [],
   "source": [
    "def build_and_compile_model(norm):\n",
    "  model = keras.Sequential([\n",
    "      norm,\n",
    "      layers.Dense(64, activation='relu'),\n",
    "      layers.Dense(64, activation='relu'),\n",
    "      layers.Dense(1)\n",
    "  ])\n",
    "\n",
    "  model.compile(loss='mean_absolute_error',\n",
    "                optimizer=tf.keras.optimizers.Adam(0.001))\n",
    "  return model"
   ]
  },
  {
   "cell_type": "markdown",
   "metadata": {
    "id": "7T4RP1V36gVn"
   },
   "source": [
    "### One variable"
   ]
  },
  {
   "cell_type": "markdown",
   "metadata": {
    "id": "xvu9gtxTZR5V"
   },
   "source": [
    "Start with a DNN model for a single input: \"L:D7TOR\""
   ]
  },
  {
   "cell_type": "code",
   "execution_count": 75,
   "metadata": {
    "execution": {
     "iopub.execute_input": "2021-06-19T02:12:15.045996Z",
     "iopub.status.busy": "2021-06-19T02:12:15.045445Z",
     "iopub.status.idle": "2021-06-19T02:12:15.074321Z",
     "shell.execute_reply": "2021-06-19T02:12:15.073923Z"
    },
    "id": "cGbPb-PHGbhs"
   },
   "outputs": [],
   "source": [
    "dnn_to1in_model = build_and_compile_model(to1in_normalizer)"
   ]
  },
  {
   "cell_type": "markdown",
   "metadata": {
    "id": "Sj49Og4YGULr"
   },
   "source": [
    "This model has quite a few more trainable parameters than the linear models."
   ]
  },
  {
   "cell_type": "code",
   "execution_count": 76,
   "metadata": {
    "execution": {
     "iopub.execute_input": "2021-06-19T02:12:15.078937Z",
     "iopub.status.busy": "2021-06-19T02:12:15.078014Z",
     "iopub.status.idle": "2021-06-19T02:12:15.081872Z",
     "shell.execute_reply": "2021-06-19T02:12:15.081480Z"
    },
    "id": "ReAD0n6MsFK-"
   },
   "outputs": [
    {
     "name": "stdout",
     "output_type": "stream",
     "text": [
      "Model: \"sequential_4\"\n",
      "_________________________________________________________________\n",
      "Layer (type)                 Output Shape              Param #   \n",
      "=================================================================\n",
      "normalization_1 (Normalizati (None, 1)                 3         \n",
      "_________________________________________________________________\n",
      "dense_8 (Dense)              (None, 64)                128       \n",
      "_________________________________________________________________\n",
      "dense_9 (Dense)              (None, 64)                4160      \n",
      "_________________________________________________________________\n",
      "dense_10 (Dense)             (None, 1)                 65        \n",
      "=================================================================\n",
      "Total params: 4,356\n",
      "Trainable params: 4,353\n",
      "Non-trainable params: 3\n",
      "_________________________________________________________________\n"
     ]
    }
   ],
   "source": [
    "dnn_to1in_model.summary()"
   ]
  },
  {
   "cell_type": "markdown",
   "metadata": {
    "id": "0-qWCsh6DlyH"
   },
   "source": [
    "Train the model:"
   ]
  },
  {
   "cell_type": "code",
   "execution_count": 77,
   "metadata": {
    "execution": {
     "iopub.execute_input": "2021-06-19T02:12:15.086201Z",
     "iopub.status.busy": "2021-06-19T02:12:15.085665Z",
     "iopub.status.idle": "2021-06-19T02:12:17.949120Z",
     "shell.execute_reply": "2021-06-19T02:12:17.948634Z"
    },
    "id": "sD7qHCmNIOY0"
   },
   "outputs": [
    {
     "name": "stderr",
     "output_type": "stream",
     "text": [
      "2021-12-21 18:30:39.174004: I tensorflow/core/grappler/optimizers/custom_graph_optimizer_registry.cc:112] Plugin optimizer for device_type GPU is enabled.\n",
      "2021-12-21 18:30:39.291869: I tensorflow/core/grappler/optimizers/custom_graph_optimizer_registry.cc:112] Plugin optimizer for device_type GPU is enabled.\n"
     ]
    },
    {
     "name": "stdout",
     "output_type": "stream",
     "text": [
      "CPU times: user 16.9 s, sys: 11.5 s, total: 28.4 s\n",
      "Wall time: 17.2 s\n"
     ]
    }
   ],
   "source": [
    "%%time\n",
    "history = dnn_to1in_model.fit(\n",
    "    train_features['L:TO1IN(R)'], train_labels,\n",
    "    validation_split=0.2,\n",
    "    verbose=0, epochs=300)"
   ]
  },
  {
   "cell_type": "markdown",
   "metadata": {
    "id": "dArGGxHxcKjN"
   },
   "source": [
    "This model does slightly better than the linear model, but error is still large."
   ]
  },
  {
   "cell_type": "code",
   "execution_count": 78,
   "metadata": {
    "execution": {
     "iopub.execute_input": "2021-06-19T02:12:17.962709Z",
     "iopub.status.busy": "2021-06-19T02:12:17.961206Z",
     "iopub.status.idle": "2021-06-19T02:12:18.075835Z",
     "shell.execute_reply": "2021-06-19T02:12:18.075400Z"
    },
    "id": "NcF6UWjdCU8T"
   },
   "outputs": [
    {
     "data": {
      "image/png": "[encoded data removed]",
      "text/plain": [
       "<Figure size 432x288 with 1 Axes>"
      ]
     },
     "metadata": {
      "needs_background": "light"
     },
     "output_type": "display_data"
    }
   ],
   "source": [
    "plot_loss(history)"
   ]
  },
  {
   "cell_type": "markdown",
   "metadata": {
    "id": "TG1snlpR2QCK"
   },
   "source": [
    "If you plot the predictions as a function of `L:TO1IN`, you'll see how this model takes advantage of the nonlinearity provided by the hidden layers:"
   ]
  },
  {
   "cell_type": "code",
   "execution_count": 79,
   "metadata": {
    "execution": {
     "iopub.execute_input": "2021-06-19T02:12:18.079879Z",
     "iopub.status.busy": "2021-06-19T02:12:18.079311Z",
     "iopub.status.idle": "2021-06-19T02:12:18.154630Z",
     "shell.execute_reply": "2021-06-19T02:12:18.154121Z"
    },
    "id": "hPF53Rem14NS"
   },
   "outputs": [
    {
     "name": "stderr",
     "output_type": "stream",
     "text": [
      "2021-12-21 18:32:41.328878: I tensorflow/core/grappler/optimizers/custom_graph_optimizer_registry.cc:112] Plugin optimizer for device_type GPU is enabled.\n"
     ]
    }
   ],
   "source": [
    "x = tf.linspace(22.0, 25, 4)\n",
    "y = dnn_to1in_model.predict(x)"
   ]
  },
  {
   "cell_type": "code",
   "execution_count": 59,
   "metadata": {
    "execution": {
     "iopub.execute_input": "2021-06-19T02:12:18.177843Z",
     "iopub.status.busy": "2021-06-19T02:12:18.176730Z",
     "iopub.status.idle": "2021-06-19T02:12:18.285145Z",
     "shell.execute_reply": "2021-06-19T02:12:18.285495Z"
    },
    "id": "rsf9rD8I17Wq"
   },
   "outputs": [
    {
     "data": {
      "image/png": "[encoded data removed]",
      "text/plain": [
       "<Figure size 432x288 with 1 Axes>"
      ]
     },
     "metadata": {
      "needs_background": "light"
     },
     "output_type": "display_data"
    }
   ],
   "source": [
    "plot_to1in(x, y)"
   ]
  },
  {
   "cell_type": "markdown",
   "metadata": {
    "id": "WxCJKIUpe4io"
   },
   "source": [
    "Collect the results on the test set, for later:"
   ]
  },
  {
   "cell_type": "code",
   "execution_count": 60,
   "metadata": {
    "execution": {
     "iopub.execute_input": "2021-06-19T02:12:18.290080Z",
     "iopub.status.busy": "2021-06-19T02:12:18.289233Z",
     "iopub.status.idle": "2021-06-19T02:12:18.330925Z",
     "shell.execute_reply": "2021-06-19T02:12:18.331316Z"
    },
    "id": "bJjM0dU52XtN"
   },
   "outputs": [
    {
     "name": "stderr",
     "output_type": "stream",
     "text": [
      "2021-12-21 18:04:21.053518: I tensorflow/core/grappler/optimizers/custom_graph_optimizer_registry.cc:112] Plugin optimizer for device_type GPU is enabled.\n"
     ]
    }
   ],
   "source": [
    "test_results['dnn_to1in_model'] = dnn_to1in_model.evaluate(\n",
    "    test_features['L:TO1IN(R)'], test_labels,\n",
    "    verbose=0)"
   ]
  },
  {
   "cell_type": "markdown",
   "metadata": {
    "id": "S_2Btebp2e64"
   },
   "source": [
    "### Full model"
   ]
  },
  {
   "cell_type": "markdown",
   "metadata": {
    "id": "aKFtezDldLSf"
   },
   "source": [
    "If you repeat this process using all the inputs it slightly improves the performance on the validation dataset."
   ]
  },
  {
   "cell_type": "code",
   "execution_count": 61,
   "metadata": {
    "execution": {
     "iopub.execute_input": "2021-06-19T02:12:18.338148Z",
     "iopub.status.busy": "2021-06-19T02:12:18.337097Z",
     "iopub.status.idle": "2021-06-19T02:12:18.367226Z",
     "shell.execute_reply": "2021-06-19T02:12:18.367601Z"
    },
    "id": "c0mhscXh2k36"
   },
   "outputs": [
    {
     "name": "stdout",
     "output_type": "stream",
     "text": [
      "Model: \"sequential_3\"\n",
      "_________________________________________________________________\n",
      "Layer (type)                 Output Shape              Param #   \n",
      "=================================================================\n",
      "normalization (Normalization (None, 39)                79        \n",
      "_________________________________________________________________\n",
      "dense_5 (Dense)              (None, 64)                2560      \n",
      "_________________________________________________________________\n",
      "dense_6 (Dense)              (None, 64)                4160      \n",
      "_________________________________________________________________\n",
      "dense_7 (Dense)              (None, 1)                 65        \n",
      "=================================================================\n",
      "Total params: 6,864\n",
      "Trainable params: 6,785\n",
      "Non-trainable params: 79\n",
      "_________________________________________________________________\n"
     ]
    }
   ],
   "source": [
    "dnn_model = build_and_compile_model(normalizer)\n",
    "dnn_model.summary()"
   ]
  },
  {
   "cell_type": "code",
   "execution_count": 62,
   "metadata": {
    "execution": {
     "iopub.execute_input": "2021-06-19T02:12:18.372560Z",
     "iopub.status.busy": "2021-06-19T02:12:18.371698Z",
     "iopub.status.idle": "2021-06-19T02:12:21.223876Z",
     "shell.execute_reply": "2021-06-19T02:12:21.223392Z"
    },
    "id": "CXDENACl2tuW"
   },
   "outputs": [
    {
     "name": "stderr",
     "output_type": "stream",
     "text": [
      "2021-12-21 18:04:34.892284: I tensorflow/core/grappler/optimizers/custom_graph_optimizer_registry.cc:112] Plugin optimizer for device_type GPU is enabled.\n",
      "2021-12-21 18:04:35.010302: I tensorflow/core/grappler/optimizers/custom_graph_optimizer_registry.cc:112] Plugin optimizer for device_type GPU is enabled.\n"
     ]
    },
    {
     "name": "stdout",
     "output_type": "stream",
     "text": [
      "CPU times: user 16.7 s, sys: 11.4 s, total: 28.1 s\n",
      "Wall time: 16.5 s\n"
     ]
    }
   ],
   "source": [
    "%%time\n",
    "history = dnn_model.fit(\n",
    "    train_features, train_labels,\n",
    "    validation_split=0.2,\n",
    "    verbose=0, epochs=300)"
   ]
  },
  {
   "cell_type": "code",
   "execution_count": 63,
   "metadata": {
    "execution": {
     "iopub.execute_input": "2021-06-19T02:12:21.238671Z",
     "iopub.status.busy": "2021-06-19T02:12:21.238016Z",
     "iopub.status.idle": "2021-06-19T02:12:21.338446Z",
     "shell.execute_reply": "2021-06-19T02:12:21.338834Z"
    },
    "id": "-9Dbj0fX23RQ"
   },
   "outputs": [
    {
     "data": {
      "image/png": "[encoded data removed]",
      "text/plain": [
       "<Figure size 432x288 with 1 Axes>"
      ]
     },
     "metadata": {
      "needs_background": "light"
     },
     "output_type": "display_data"
    }
   ],
   "source": [
    "plot_loss(history)"
   ]
  },
  {
   "cell_type": "markdown",
   "metadata": {
    "id": "hWoVYS34fJPZ"
   },
   "source": [
    "Collect the results on the test set:"
   ]
  },
  {
   "cell_type": "code",
   "execution_count": 64,
   "metadata": {
    "execution": {
     "iopub.execute_input": "2021-06-19T02:12:21.342848Z",
     "iopub.status.busy": "2021-06-19T02:12:21.342270Z",
     "iopub.status.idle": "2021-06-19T02:12:21.385730Z",
     "shell.execute_reply": "2021-06-19T02:12:21.386116Z"
    },
    "id": "-bZIa96W3c7K"
   },
   "outputs": [
    {
     "name": "stderr",
     "output_type": "stream",
     "text": [
      "2021-12-21 18:05:10.451991: I tensorflow/core/grappler/optimizers/custom_graph_optimizer_registry.cc:112] Plugin optimizer for device_type GPU is enabled.\n"
     ]
    }
   ],
   "source": [
    "test_results['dnn_model'] = dnn_model.evaluate(test_features, test_labels, verbose=0)"
   ]
  },
  {
   "cell_type": "markdown",
   "metadata": {
    "id": "uiCucdPLfMkZ"
   },
   "source": [
    "## Performance"
   ]
  },
  {
   "cell_type": "markdown",
   "metadata": {
    "id": "rDf1xebEfWBw"
   },
   "source": [
    "Now that all the models are trained check the test-set performance and see how they did:"
   ]
  },
  {
   "cell_type": "code",
   "execution_count": 65,
   "metadata": {
    "execution": {
     "iopub.execute_input": "2021-06-19T02:12:21.394015Z",
     "iopub.status.busy": "2021-06-19T02:12:21.393391Z",
     "iopub.status.idle": "2021-06-19T02:12:21.396577Z",
     "shell.execute_reply": "2021-06-19T02:12:21.396183Z"
    },
    "id": "e5_ooufM5iH2"
   },
   "outputs": [
    {
     "data": {
      "text/html": [
       "<div>\n",
       "<style scoped>\n",
       "    .dataframe tbody tr th:only-of-type {\n",
       "        vertical-align: middle;\n",
       "    }\n",
       "\n",
       "    .dataframe tbody tr th {\n",
       "        vertical-align: top;\n",
       "    }\n",
       "\n",
       "    .dataframe thead th {\n",
       "        text-align: right;\n",
       "    }\n",
       "</style>\n",
       "<table border=\"1\" class=\"dataframe\">\n",
       "  <thead>\n",
       "    <tr style=\"text-align: right;\">\n",
       "      <th></th>\n",
       "      <th>Mean absolute error [L:RFQPAH]</th>\n",
       "    </tr>\n",
       "  </thead>\n",
       "  <tbody>\n",
       "    <tr>\n",
       "      <th>to1in_model</th>\n",
       "      <td>9.387738</td>\n",
       "    </tr>\n",
       "    <tr>\n",
       "      <th>linear_model</th>\n",
       "      <td>1.691553</td>\n",
       "    </tr>\n",
       "    <tr>\n",
       "      <th>dnn_to1in_model</th>\n",
       "      <td>9.304253</td>\n",
       "    </tr>\n",
       "    <tr>\n",
       "      <th>dnn_model</th>\n",
       "      <td>5.923689</td>\n",
       "    </tr>\n",
       "  </tbody>\n",
       "</table>\n",
       "</div>"
      ],
      "text/plain": [
       "                 Mean absolute error [L:RFQPAH]\n",
       "to1in_model                            9.387738\n",
       "linear_model                           1.691553\n",
       "dnn_to1in_model                        9.304253\n",
       "dnn_model                              5.923689"
      ]
     },
     "execution_count": 65,
     "metadata": {},
     "output_type": "execute_result"
    }
   ],
   "source": [
    "pd.DataFrame(test_results, index=['Mean absolute error [L:RFQPAH]']).T"
   ]
  },
  {
   "cell_type": "markdown",
   "metadata": {
    "id": "DABIVzsCf-QI"
   },
   "source": [
    "These results match the validation error seen during training."
   ]
  },
  {
   "cell_type": "markdown",
   "metadata": {
    "id": "ft603OzXuEZC"
   },
   "source": [
    "### Make predictions\n",
    "\n",
    "Finally, predict have a look at the errors made by the model when making predictions on the test set:"
   ]
  },
  {
   "cell_type": "code",
   "execution_count": 71,
   "metadata": {
    "execution": {
     "iopub.execute_input": "2021-06-19T02:12:21.401088Z",
     "iopub.status.busy": "2021-06-19T02:12:21.400539Z",
     "iopub.status.idle": "2021-06-19T02:12:21.562114Z",
     "shell.execute_reply": "2021-06-19T02:12:21.561710Z"
    },
    "id": "Xe7RXH3N3CWU"
   },
   "outputs": [
    {
     "name": "stdout",
     "output_type": "stream",
     "text": [
      "WARNING:tensorflow:6 out of the last 9 calls to <function Model.make_predict_function.<locals>.predict_function at 0x2a49c08b0> triggered tf.function retracing. Tracing is expensive and the excessive number of tracings could be due to (1) creating @tf.function repeatedly in a loop, (2) passing tensors with different shapes, (3) passing Python objects instead of tensors. For (1), please define your @tf.function outside of the loop. For (2), @tf.function has experimental_relax_shapes=True option that relaxes argument shapes that can avoid unnecessary retracing. For (3), please refer to https://www.tensorflow.org/guide/function#controlling_retracing and https://www.tensorflow.org/api_docs/python/tf/function for  more details.\n"
     ]
    },
    {
     "name": "stderr",
     "output_type": "stream",
     "text": [
      "2021-12-21 18:10:01.067077: I tensorflow/core/grappler/optimizers/custom_graph_optimizer_registry.cc:112] Plugin optimizer for device_type GPU is enabled.\n"
     ]
    },
    {
     "data": {
      "image/png": "[encoded data removed]",
      "text/plain": [
       "<Figure size 432x288 with 1 Axes>"
      ]
     },
     "metadata": {
      "needs_background": "light"
     },
     "output_type": "display_data"
    }
   ],
   "source": [
    "test_predictions = linear_model.predict(test_features).flatten()\n",
    "\n",
    "a = plt.axes(aspect='equal')\n",
    "plt.scatter(test_labels, test_predictions)\n",
    "plt.xlabel('True Values [L:RFQPAH]')\n",
    "plt.ylabel('Predictions [L:RFQPAH]')\n",
    "lims = [110, 210]\n",
    "plt.xlim(lims)\n",
    "plt.ylim(lims)\n",
    "_ = plt.plot(lims, lims)\n"
   ]
  },
  {
   "cell_type": "markdown",
   "metadata": {
    "id": "19wyogbOSU5t"
   },
   "source": [
    "It looks like the model predicts kind of OK. \n",
    "\n",
    "Now take a look at the error distribution:"
   ]
  },
  {
   "cell_type": "code",
   "execution_count": 72,
   "metadata": {
    "execution": {
     "iopub.execute_input": "2021-06-19T02:12:21.584513Z",
     "iopub.status.busy": "2021-06-19T02:12:21.581281Z",
     "iopub.status.idle": "2021-06-19T02:12:21.697549Z",
     "shell.execute_reply": "2021-06-19T02:12:21.697922Z"
    },
    "id": "f-OHX4DiXd8x"
   },
   "outputs": [
    {
     "data": {
      "image/png": "[encoded data removed]",
      "text/plain": [
       "<Figure size 432x288 with 1 Axes>"
      ]
     },
     "metadata": {
      "needs_background": "light"
     },
     "output_type": "display_data"
    }
   ],
   "source": [
    "error = (test_predictions - test_labels)/test_labels*100.\n",
    "plt.hist(error, bins=25)\n",
    "plt.xlabel('Prediction Error % [L:RFQPAH]')\n",
    "_ = plt.ylabel('Count')"
   ]
  },
  {
   "cell_type": "markdown",
   "metadata": {
    "id": "KSyaHUfDT-mZ"
   },
   "source": [
    "If you're happy with the model save it for later use:"
   ]
  },
  {
   "cell_type": "code",
   "execution_count": 70,
   "metadata": {
    "execution": {
     "iopub.execute_input": "2021-06-19T02:12:21.708548Z",
     "iopub.status.busy": "2021-06-19T02:12:21.702446Z",
     "iopub.status.idle": "2021-06-19T02:12:22.384583Z",
     "shell.execute_reply": "2021-06-19T02:12:22.384085Z"
    },
    "id": "4-WwLlmfT-mb"
   },
   "outputs": [
    {
     "name": "stdout",
     "output_type": "stream",
     "text": [
      "INFO:tensorflow:Assets written to: dnn_model/assets\n"
     ]
    },
    {
     "name": "stderr",
     "output_type": "stream",
     "text": [
      "2021-12-21 18:09:03.016928: W tensorflow/python/util/util.cc:348] Sets are not currently considered sequences, but this may change in the future, so consider avoiding using them.\n"
     ]
    }
   ],
   "source": [
    "dnn_model.save('dnn_model')"
   ]
  },
  {
   "cell_type": "markdown",
   "metadata": {
    "id": "Benlnl8UT-me"
   },
   "source": [
    "If you reload the model, it gives identical output:"
   ]
  },
  {
   "cell_type": "code",
   "execution_count": null,
   "metadata": {
    "execution": {
     "iopub.execute_input": "2021-06-19T02:12:22.389062Z",
     "iopub.status.busy": "2021-06-19T02:12:22.388425Z",
     "iopub.status.idle": "2021-06-19T02:12:22.694087Z",
     "shell.execute_reply": "2021-06-19T02:12:22.694496Z"
    },
    "id": "dyyyj2zVT-mf"
   },
   "outputs": [],
   "source": [
    "reloaded = tf.keras.models.load_model('dnn_model')\n",
    "\n",
    "test_results['reloaded'] = reloaded.evaluate(\n",
    "    test_features, test_labels, verbose=0)"
   ]
  },
  {
   "cell_type": "code",
   "execution_count": null,
   "metadata": {
    "execution": {
     "iopub.execute_input": "2021-06-19T02:12:22.701924Z",
     "iopub.status.busy": "2021-06-19T02:12:22.701370Z",
     "iopub.status.idle": "2021-06-19T02:12:22.703475Z",
     "shell.execute_reply": "2021-06-19T02:12:22.703796Z"
    },
    "id": "f_GchJ2tg-2o"
   },
   "outputs": [],
   "source": [
    "pd.DataFrame(test_results, index=['Mean absolute error [L:RFQPAH]']).T"
   ]
  },
  {
   "cell_type": "markdown",
   "metadata": {
    "id": "vgGQuV-yqYZH"
   },
   "source": [
    "## Conclusion\n",
    "\n",
    "This notebook introduced a few techniques to handle a regression problem. Here are a few more tips that may help:\n",
    "\n",
    "* [Mean Squared Error (MSE)](https://www.tensorflow.org/api_docs/python/tf/losses/MeanSquaredError) and [Mean Absolute Error (MAE)](https://www.tensorflow.org/api_docs/python/tf/losses/MeanAbsoluteError) are common loss functions used for regression problems. Mean Absolute Error is less sensitive to outliers. Different loss functions are used for classification problems.\n",
    "* Similarly, evaluation metrics used for regression differ from classification.\n",
    "* When numeric input data features have values with different ranges, each feature should be scaled independently to the same range.\n",
    "* Overfitting is a common problem for DNN models. See the [overfit and underfit](overfit_and_underfit.ipynb) tutorial for more help with this.\n"
   ]
  },
  {
   "cell_type": "code",
   "execution_count": null,
   "metadata": {},
   "outputs": [],
   "source": []
  }
 ],
 "metadata": {
  "colab": {
   "collapsed_sections": [],
   "name": "regression.ipynb",
   "private_outputs": true,
   "provenance": [],
   "toc_visible": true
  },
  "kernelspec": {
   "display_name": "Python 3 (ipykernel)",
   "language": "python",
   "name": "python3"
  },
  "language_info": {
   "codemirror_mode": {
    "name": "ipython",
    "version": 3
   },
   "file_extension": ".py",
   "mimetype": "text/x-python",
   "name": "python",
   "nbconvert_exporter": "python",
   "pygments_lexer": "ipython3",
   "version": "3.8.10"
  }
 },
 "nbformat": 4,
 "nbformat_minor": 1
}
